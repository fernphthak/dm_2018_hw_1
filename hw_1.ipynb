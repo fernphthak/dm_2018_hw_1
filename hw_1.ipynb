{
 "cells": [
  {
   "cell_type": "markdown",
   "metadata": {},
   "source": [
    "### Student Information\n",
    "Name: Nareekarn Phongthipphithak\n",
    "\n",
    "Student ID: 107065428\n",
    "\n",
    "GitHub ID: fernphthak"
   ]
  },
  {
   "cell_type": "markdown",
   "metadata": {},
   "source": [
    "---"
   ]
  },
  {
   "cell_type": "markdown",
   "metadata": {},
   "source": [
    "### Instructions"
   ]
  },
  {
   "cell_type": "markdown",
   "metadata": {},
   "source": [
    "- First, you should attempt the **take home** exercises provided in the [notebook](https://github.com/omarsar/data_mining_lab/blob/master/news_data_mining.ipynb) we used for the first lab session. Attempt all the exercises, as it is counts towards the final grade of your first assignment (20%). \n",
    "\n",
    "- Then, download the dataset provided in this [link](https://archive.ics.uci.edu/ml/datasets/Sentiment+Labelled+Sentences#). The sentiment dataset contains a `sentence` and `score` label. Read the specificiations of the dataset before you start exploring it. \n",
    "\n",
    "\n",
    "- Then, you are asked to apply each of the data exploration and data operation steps learned in the [first lab session](https://github.com/omarsar/data_mining_lab) on **the new dataset**. You don't need to explain all the procedures as we did in the notebook, but you are expected to provide some **minimal comments** explaining your code. You are also expected to use the same libraries used in the first lab session. You are allowed to use and modify the `helper` functions we provided in the first lab session or create your own. Also, be aware that the helper functions may need modification as you are dealing with a completely different dataset. This part is worth 30% of your grade!\n",
    "\n",
    "- In addition to applying the same operations from the first lab, we are asking that you attempt the following tasks on the new sentiment dataset as well (40%):\n",
    "    - Use your creativity and imagination to generate **new data visualizations**. Refer to online resources and the Data Mining textbook for inspiration and ideas. \n",
    "    - Generate **TF-IDF features** from the tokens of each text. Refer to this Sciki-learn [guide](http://scikit-learn.org/stable/modules/generated/sklearn.feature_extraction.text.TfidfVectorizer.html) on how you may go about doing this. Keep in mind that you are generating a matrix similar to the term-document matrix we implemented in our first lab session. However, the weights will be computed differently and should represent the TF-IDF value of each word per document as opposed to the word frequency.\n",
    "    - Using both the TF-IDF and word frequency features, try to compute the **similarity** between random sentences and report results. Read the \"distance simiilarity\" section of the Data Mining textbook on what measures you can use here. [Cosine similarity](https://jamesmccaffrey.wordpress.com/2017/03/29/the-cosine-similarity-of-two-sentences/) is one of these methods but there are others. Try to explore a few of them in this exercise and report the differences in result. \n",
    "    - Lastly, implement a simple **Naive Bayes classifier** that automatically classifies the records into their categories. Try to implement this using scikit-learn built in classifiers and use both the TF-IDF features and word frequency features to build two seperate classifiers. Refer to this [nice article](https://hub.packtpub.com/implementing-3-naive-bayes-classifiers-in-scikit-learn/) on how to build this type of classifier using scikit-learn. Report the classification accuracy of both your models. If you are struggling with this step please reach us on Slack as soon as possible.   \n",
    "\n",
    "\n",
    "- Presentation matters! You are also expected to **tidy up your notebook** and attempt new data operations and techniques that you have learned so far in the Data Mining course. Surprise us! This segment is worth 10% of your grade. The idea of this exercise is to begin thinking of how you will program the concepts you have learned and the process that is involved. \n",
    "\n",
    "\n",
    "- After completing all the above tasks, you are free to remove this header block and **submit** your assignment following the guide provided in the [README.md](https://github.com/omarsar/dm_2018_hw_1/blob/master/README.md) file of the assignment's repository. "
   ]
  },
  {
   "cell_type": "raw",
   "metadata": {},
   "source": [
    "：：：：：：：：：：：：：：：：：：：：：：：：：：：：：：：：：：：：：：：：：：：：：：：：：：：：：：：：：：：：：：：：：：：：：：：\n",
    "：：：：：：：：：：：：：：：：：：：：：：：：：：：：：：：：：：：：：：：：：：：：：：：：：：：：：：：：：：：：：：：：：：：：：：：：：：：：：：：：：：：：：：：：：：：你好！ My name is FERN from THAILAND !!!：：：：：：：：：：：：：：：：：：：：：：：：：：：\n",
    "：：：：：：：：：：：：：：I have tried my best to do this. Hope you like it HAHAHAHA：：：：：：：：：：：：：：：：：：：：：：\n",
    "：：：：：：：：：：：：：：：：：：：：：：：：：：：：：：：：：：：：：：：：：：：：：：：：：：：：：：：：：：：：：：：：：：：：：：：：：：：：：：：：：：：：：：：：：：：：：：：：：：：：：：：：：：：：：：：：：：：：：：：：：：：：：：：：：：：：：：：：：：：：：："
   ]
  },
  {
   "cell_type": "markdown",
   "metadata": {},
   "source": [
    "# Take-home HW"
   ]
  },
  {
   "cell_type": "code",
   "execution_count": 524,
   "metadata": {},
   "outputs": [
    {
     "name": "stdout",
     "output_type": "stream",
     "text": [
      "The autoreload extension is already loaded. To reload it, use:\n",
      "  %reload_ext autoreload\n"
     ]
    }
   ],
   "source": [
    "# necessary for when working with external scripts\n",
    "%load_ext autoreload\n",
    "%autoreload 2"
   ]
  },
  {
   "cell_type": "code",
   "execution_count": 525,
   "metadata": {},
   "outputs": [],
   "source": [
    "# categories\n",
    "categories = ['alt.atheism', 'soc.religion.christian', 'comp.graphics', 'sci.med']"
   ]
  },
  {
   "cell_type": "code",
   "execution_count": 531,
   "metadata": {},
   "outputs": [],
   "source": [
    "# obtain the documents containing the categories provided\n",
    "from sklearn.datasets import fetch_20newsgroups\n",
    "\n",
    "twenty_train = fetch_20newsgroups(subset='train', categories=categories, \\\n",
    "                                  shuffle=True, random_state=42)"
   ]
  },
  {
   "cell_type": "code",
   "execution_count": 532,
   "metadata": {},
   "outputs": [
    {
     "data": {
      "text/plain": [
       "['alt.atheism', 'comp.graphics', 'sci.med', 'soc.religion.christian']"
      ]
     },
     "execution_count": 532,
     "metadata": {},
     "output_type": "execute_result"
    }
   ],
   "source": [
    "twenty_train.target_names"
   ]
  },
  {
   "cell_type": "code",
   "execution_count": 533,
   "metadata": {},
   "outputs": [
    {
     "data": {
      "text/plain": [
       "array([1, 1, 3, 3, 3, 3, 3, 2, 2, 2])"
      ]
     },
     "execution_count": 533,
     "metadata": {},
     "output_type": "execute_result"
    }
   ],
   "source": [
    "twenty_train.target[:10]"
   ]
  },
  {
   "cell_type": "code",
   "execution_count": 534,
   "metadata": {},
   "outputs": [],
   "source": [
    "import pandas as pd\n",
    "\n",
    "# my functions\n",
    "import helpers.data_mining_helpers as dmh\n",
    "\n",
    "# construct dataframe from a list\n",
    "X = pd.DataFrame.from_records(dmh.format_rows(twenty_train), columns= ['text'])"
   ]
  },
  {
   "cell_type": "code",
   "execution_count": 535,
   "metadata": {},
   "outputs": [],
   "source": [
    "X['category'] = twenty_train.target"
   ]
  },
  {
   "cell_type": "code",
   "execution_count": 536,
   "metadata": {},
   "outputs": [],
   "source": [
    "X['category_name'] = X.category.apply(lambda t: dmh.format_labels(t, twenty_train))"
   ]
  },
  {
   "cell_type": "code",
   "execution_count": 537,
   "metadata": {},
   "outputs": [
    {
     "data": {
      "text/html": [
       "<div>\n",
       "<style scoped>\n",
       "    .dataframe tbody tr th:only-of-type {\n",
       "        vertical-align: middle;\n",
       "    }\n",
       "\n",
       "    .dataframe tbody tr th {\n",
       "        vertical-align: top;\n",
       "    }\n",
       "\n",
       "    .dataframe thead th {\n",
       "        text-align: right;\n",
       "    }\n",
       "</style>\n",
       "<table border=\"1\" class=\"dataframe\">\n",
       "  <thead>\n",
       "    <tr style=\"text-align: right;\">\n",
       "      <th></th>\n",
       "      <th>text</th>\n",
       "      <th>category</th>\n",
       "      <th>category_name</th>\n",
       "    </tr>\n",
       "  </thead>\n",
       "  <tbody>\n",
       "    <tr>\n",
       "      <th>1504</th>\n",
       "      <td>Subject: Re: Death Penalty (was Re: Political ...</td>\n",
       "      <td>0</td>\n",
       "      <td>alt.atheism</td>\n",
       "    </tr>\n",
       "    <tr>\n",
       "      <th>1478</th>\n",
       "      <td>From: dr_bobo@ponton.hanse.de (Boris Pruessman...</td>\n",
       "      <td>1</td>\n",
       "      <td>comp.graphics</td>\n",
       "    </tr>\n",
       "    <tr>\n",
       "      <th>503</th>\n",
       "      <td>From: sdbsd5@cislabs.pitt.edu (Stephen D Brene...</td>\n",
       "      <td>2</td>\n",
       "      <td>sci.med</td>\n",
       "    </tr>\n",
       "    <tr>\n",
       "      <th>517</th>\n",
       "      <td>From: geb@cs.pitt.edu (Gordon Banks) Subject: ...</td>\n",
       "      <td>2</td>\n",
       "      <td>sci.med</td>\n",
       "    </tr>\n",
       "    <tr>\n",
       "      <th>2205</th>\n",
       "      <td>From: jono@mac-ak-24.rtsg.mot.com (Jon Ogden) ...</td>\n",
       "      <td>3</td>\n",
       "      <td>soc.religion.christian</td>\n",
       "    </tr>\n",
       "  </tbody>\n",
       "</table>\n",
       "</div>"
      ],
      "text/plain": [
       "                                                   text  category  \\\n",
       "1504  Subject: Re: Death Penalty (was Re: Political ...         0   \n",
       "1478  From: dr_bobo@ponton.hanse.de (Boris Pruessman...         1   \n",
       "503   From: sdbsd5@cislabs.pitt.edu (Stephen D Brene...         2   \n",
       "517   From: geb@cs.pitt.edu (Gordon Banks) Subject: ...         2   \n",
       "2205  From: jono@mac-ak-24.rtsg.mot.com (Jon Ogden) ...         3   \n",
       "\n",
       "               category_name  \n",
       "1504             alt.atheism  \n",
       "1478           comp.graphics  \n",
       "503                  sci.med  \n",
       "517                  sci.med  \n",
       "2205  soc.religion.christian  "
      ]
     },
     "execution_count": 537,
     "metadata": {},
     "output_type": "execute_result"
    }
   ],
   "source": [
    "#2 Answer here\n",
    "X.sample(n=5)"
   ]
  },
  {
   "cell_type": "code",
   "execution_count": 540,
   "metadata": {},
   "outputs": [
    {
     "data": {
      "text/html": [
       "<div>\n",
       "<style scoped>\n",
       "    .dataframe tbody tr th:only-of-type {\n",
       "        vertical-align: middle;\n",
       "    }\n",
       "\n",
       "    .dataframe tbody tr th {\n",
       "        vertical-align: top;\n",
       "    }\n",
       "\n",
       "    .dataframe thead th {\n",
       "        text-align: right;\n",
       "    }\n",
       "</style>\n",
       "<table border=\"1\" class=\"dataframe\">\n",
       "  <thead>\n",
       "    <tr style=\"text-align: right;\">\n",
       "      <th></th>\n",
       "      <th>id</th>\n",
       "      <th>missing_example</th>\n",
       "    </tr>\n",
       "  </thead>\n",
       "  <tbody>\n",
       "    <tr>\n",
       "      <th>0</th>\n",
       "      <td>A</td>\n",
       "      <td>NaN</td>\n",
       "    </tr>\n",
       "    <tr>\n",
       "      <th>1</th>\n",
       "      <td>B</td>\n",
       "      <td>NaN</td>\n",
       "    </tr>\n",
       "    <tr>\n",
       "      <th>2</th>\n",
       "      <td>C</td>\n",
       "      <td>NaN</td>\n",
       "    </tr>\n",
       "    <tr>\n",
       "      <th>3</th>\n",
       "      <td>D</td>\n",
       "      <td>None</td>\n",
       "    </tr>\n",
       "    <tr>\n",
       "      <th>4</th>\n",
       "      <td>E</td>\n",
       "      <td>None</td>\n",
       "    </tr>\n",
       "    <tr>\n",
       "      <th>5</th>\n",
       "      <td>F</td>\n",
       "      <td></td>\n",
       "    </tr>\n",
       "  </tbody>\n",
       "</table>\n",
       "</div>"
      ],
      "text/plain": [
       "  id missing_example\n",
       "0  A             NaN\n",
       "1  B             NaN\n",
       "2  C             NaN\n",
       "3  D            None\n",
       "4  E            None\n",
       "5  F                "
      ]
     },
     "execution_count": 540,
     "metadata": {},
     "output_type": "execute_result"
    }
   ],
   "source": [
    "import numpy as np\n",
    "\n",
    "NA_dict = [{ 'id': 'A', 'missing_example': np.nan },\n",
    "           { 'id': 'B'                    },\n",
    "           { 'id': 'C', 'missing_example': 'NaN'  },\n",
    "           { 'id': 'D', 'missing_example': 'None' },\n",
    "           { 'id': 'E', 'missing_example':  None  },\n",
    "           { 'id': 'F', 'missing_example': ''     }]\n",
    "\n",
    "NA_df = pd.DataFrame(NA_dict, columns = ['id','missing_example'])\n",
    "NA_df"
   ]
  },
  {
   "cell_type": "raw",
   "metadata": {},
   "source": [
    "#5 Answer here\n",
    "isnull() will scan out missing value which there \"no value\" in the table but because 'NaN' 'None' and '' is present as string. It gave some value to the system, so the .isnull value displays True. \n",
    "The value in each key is placed in different form which makes it hard to scan out the value."
   ]
  },
  {
   "cell_type": "code",
   "execution_count": 541,
   "metadata": {},
   "outputs": [],
   "source": [
    "X_sample = X.sample(n=1000)"
   ]
  },
  {
   "cell_type": "code",
   "execution_count": 542,
   "metadata": {},
   "outputs": [
    {
     "data": {
      "text/plain": [
       "1000"
      ]
     },
     "execution_count": 542,
     "metadata": {},
     "output_type": "execute_result"
    }
   ],
   "source": [
    "len(X_sample)"
   ]
  },
  {
   "cell_type": "code",
   "execution_count": 543,
   "metadata": {},
   "outputs": [
    {
     "data": {
      "text/html": [
       "<div>\n",
       "<style scoped>\n",
       "    .dataframe tbody tr th:only-of-type {\n",
       "        vertical-align: middle;\n",
       "    }\n",
       "\n",
       "    .dataframe tbody tr th {\n",
       "        vertical-align: top;\n",
       "    }\n",
       "\n",
       "    .dataframe thead th {\n",
       "        text-align: right;\n",
       "    }\n",
       "</style>\n",
       "<table border=\"1\" class=\"dataframe\">\n",
       "  <thead>\n",
       "    <tr style=\"text-align: right;\">\n",
       "      <th></th>\n",
       "      <th>text</th>\n",
       "      <th>category</th>\n",
       "      <th>category_name</th>\n",
       "    </tr>\n",
       "  </thead>\n",
       "  <tbody>\n",
       "    <tr>\n",
       "      <th>2147</th>\n",
       "      <td>From: lasse@mits.mdata.fi (Lasse Reinikainen) ...</td>\n",
       "      <td>1</td>\n",
       "      <td>comp.graphics</td>\n",
       "    </tr>\n",
       "    <tr>\n",
       "      <th>189</th>\n",
       "      <td>From: noring@netcom.com (Jon Noring) Subject: ...</td>\n",
       "      <td>2</td>\n",
       "      <td>sci.med</td>\n",
       "    </tr>\n",
       "    <tr>\n",
       "      <th>586</th>\n",
       "      <td>From: cobb@alexia.lis.uiuc.edu (Mike Cobb) Sub...</td>\n",
       "      <td>0</td>\n",
       "      <td>alt.atheism</td>\n",
       "    </tr>\n",
       "    <tr>\n",
       "      <th>15</th>\n",
       "      <td>From: Mike_Peredo@mindlink.bc.ca (Mike Peredo)...</td>\n",
       "      <td>1</td>\n",
       "      <td>comp.graphics</td>\n",
       "    </tr>\n",
       "    <tr>\n",
       "      <th>2120</th>\n",
       "      <td>From: timmbake@mcl.ucsb.edu (Bake Timmons) Sub...</td>\n",
       "      <td>0</td>\n",
       "      <td>alt.atheism</td>\n",
       "    </tr>\n",
       "  </tbody>\n",
       "</table>\n",
       "</div>"
      ],
      "text/plain": [
       "                                                   text  category  \\\n",
       "2147  From: lasse@mits.mdata.fi (Lasse Reinikainen) ...         1   \n",
       "189   From: noring@netcom.com (Jon Noring) Subject: ...         2   \n",
       "586   From: cobb@alexia.lis.uiuc.edu (Mike Cobb) Sub...         0   \n",
       "15    From: Mike_Peredo@mindlink.bc.ca (Mike Peredo)...         1   \n",
       "2120  From: timmbake@mcl.ucsb.edu (Bake Timmons) Sub...         0   \n",
       "\n",
       "      category_name  \n",
       "2147  comp.graphics  \n",
       "189         sci.med  \n",
       "586     alt.atheism  \n",
       "15    comp.graphics  \n",
       "2120    alt.atheism  "
      ]
     },
     "execution_count": 543,
     "metadata": {},
     "output_type": "execute_result"
    }
   ],
   "source": [
    "X_sample[0:5]"
   ]
  },
  {
   "cell_type": "raw",
   "metadata": {},
   "source": [
    "#6 Answer here\n",
    "1. The length of the data is changed as it is equal to sample size it was indicated (1000)\n",
    "2. The column (on the left) is random number (it was respective in the previous X)\n",
    "3. In chosen sample, it tends to have every categories displayed"
   ]
  },
  {
   "cell_type": "code",
   "execution_count": 544,
   "metadata": {},
   "outputs": [],
   "source": [
    "import matplotlib.pyplot as plt\n",
    "%matplotlib inline"
   ]
  },
  {
   "cell_type": "code",
   "execution_count": 546,
   "metadata": {},
   "outputs": [
    {
     "name": "stdout",
     "output_type": "stream",
     "text": [
      "comp.graphics             267\n",
      "soc.religion.christian    265\n",
      "sci.med                   249\n",
      "alt.atheism               219\n",
      "Name: category_name, dtype: int64\n"
     ]
    },
    {
     "data": {
      "text/plain": [
       "<matplotlib.axes._subplots.AxesSubplot at 0x1a473dca90>"
      ]
     },
     "execution_count": 546,
     "metadata": {},
     "output_type": "execute_result"
    },
    {
     "data": {
      "image/png": "[encoded data removed]",
      "text/plain": [
       "<Figure size 576x216 with 1 Axes>"
      ]
     },
     "metadata": {},
     "output_type": "display_data"
    }
   ],
   "source": [
    "#7 Answer here\n",
    "upper_bound = max(X_sample.category_name.value_counts()) + 20\n",
    "\n",
    "print(X_sample.category_name.value_counts())\n",
    "\n",
    "# plot barchart for X_sample\n",
    "X_sample.category_name.value_counts().plot(kind = 'bar',\n",
    "                                           title = 'Category distribution',\n",
    "                                           ylim = [0, upper_bound], \n",
    "                                           rot = 0, fontsize = 12, figsize = (8,3))"
   ]
  },
  {
   "cell_type": "code",
   "execution_count": 547,
   "metadata": {},
   "outputs": [
    {
     "data": {
      "image/png": "[encoded data removed]",
      "text/plain": [
       "<Figure size 432x288 with 1 Axes>"
      ]
     },
     "metadata": {},
     "output_type": "display_data"
    },
    {
     "data": {
      "text/plain": [
       "<Figure size 432x288 with 0 Axes>"
      ]
     },
     "metadata": {},
     "output_type": "display_data"
    }
   ],
   "source": [
    "#8 Answer here\n",
    "n_groups = 4\n",
    "y = [599,594,584,480]\n",
    "z = [265,258,253,225]\n",
    " \n",
    "# create plot\n",
    "fig, ax = plt.subplots()\n",
    "index = np.arange(n_groups)\n",
    "bar_width = 0.2\n",
    " \n",
    "rects1 = plt.bar(index, y, bar_width,\n",
    "                 label='X')\n",
    " \n",
    "rects2 = plt.bar(index + bar_width, z, bar_width,\n",
    "                 label='X_sample')\n",
    " \n",
    "plt.title('Category distribution')\n",
    "plt.xticks(index + bar_width, (\"soc.religion.christian\",\"sci.med\",\"comp.graphics\",\"alt.atheism\"))\n",
    "plt.legend()\n",
    " \n",
    "plt.tight_layout()\n",
    "plt.show()\n",
    "multiple_bars = plt.figure()"
   ]
  },
  {
   "cell_type": "code",
   "execution_count": 550,
   "metadata": {},
   "outputs": [
    {
     "name": "stdout",
     "output_type": "stream",
     "text": [
      "[nltk_data] Downloading package punkt to /Users/apple/nltk_data...\n",
      "[nltk_data]   Package punkt is already up-to-date!\n"
     ]
    },
    {
     "data": {
      "text/plain": [
       "True"
      ]
     },
     "execution_count": 550,
     "metadata": {},
     "output_type": "execute_result"
    }
   ],
   "source": [
    "import nltk\n",
    "# takes a like a minute or two to process\n",
    "X['unigrams'] = X['text'].apply(lambda x: dmh.tokenize_text(x))\n",
    "nltk.download('punkt')"
   ]
  },
  {
   "cell_type": "code",
   "execution_count": 551,
   "metadata": {},
   "outputs": [],
   "source": [
    "from sklearn.feature_extraction.text import CountVectorizer\n",
    "\n",
    "count_vect = CountVectorizer()\n",
    "X_counts = count_vect.fit_transform(X.text)"
   ]
  },
  {
   "cell_type": "code",
   "execution_count": 552,
   "metadata": {},
   "outputs": [
    {
     "data": {
      "text/plain": [
       "['hello', 'world']"
      ]
     },
     "execution_count": 552,
     "metadata": {},
     "output_type": "execute_result"
    }
   ],
   "source": [
    "analyze = count_vect.build_analyzer()\n",
    "analyze(\"Hello World!\")\n",
    "#\" \".join(list(X[4:5].text))"
   ]
  },
  {
   "cell_type": "code",
   "execution_count": 553,
   "metadata": {},
   "outputs": [
    {
     "data": {
      "text/plain": [
       "['from',\n",
       " 'sd345',\n",
       " 'city',\n",
       " 'ac',\n",
       " 'uk',\n",
       " 'michael',\n",
       " 'collier',\n",
       " 'subject',\n",
       " 'converting',\n",
       " 'images',\n",
       " 'to',\n",
       " 'hp',\n",
       " 'laserjet',\n",
       " 'iii',\n",
       " 'nntp',\n",
       " 'posting',\n",
       " 'host',\n",
       " 'hampton',\n",
       " 'organization',\n",
       " 'the',\n",
       " 'city',\n",
       " 'university',\n",
       " 'lines',\n",
       " '14',\n",
       " 'does',\n",
       " 'anyone',\n",
       " 'know',\n",
       " 'of',\n",
       " 'good',\n",
       " 'way',\n",
       " 'standard',\n",
       " 'pc',\n",
       " 'application',\n",
       " 'pd',\n",
       " 'utility',\n",
       " 'to',\n",
       " 'convert',\n",
       " 'tif',\n",
       " 'img',\n",
       " 'tga',\n",
       " 'files',\n",
       " 'into',\n",
       " 'laserjet',\n",
       " 'iii',\n",
       " 'format',\n",
       " 'we',\n",
       " 'would',\n",
       " 'also',\n",
       " 'like',\n",
       " 'to',\n",
       " 'do',\n",
       " 'the',\n",
       " 'same',\n",
       " 'converting',\n",
       " 'to',\n",
       " 'hpgl',\n",
       " 'hp',\n",
       " 'plotter',\n",
       " 'files',\n",
       " 'please',\n",
       " 'email',\n",
       " 'any',\n",
       " 'response',\n",
       " 'is',\n",
       " 'this',\n",
       " 'the',\n",
       " 'correct',\n",
       " 'group',\n",
       " 'thanks',\n",
       " 'in',\n",
       " 'advance',\n",
       " 'michael',\n",
       " 'michael',\n",
       " 'collier',\n",
       " 'programmer',\n",
       " 'the',\n",
       " 'computer',\n",
       " 'unit',\n",
       " 'email',\n",
       " 'collier',\n",
       " 'uk',\n",
       " 'ac',\n",
       " 'city',\n",
       " 'the',\n",
       " 'city',\n",
       " 'university',\n",
       " 'tel',\n",
       " '071',\n",
       " '477',\n",
       " '8000',\n",
       " 'x3769',\n",
       " 'london',\n",
       " 'fax',\n",
       " '071',\n",
       " '477',\n",
       " '8565',\n",
       " 'ec1v',\n",
       " '0hb']"
      ]
     },
     "execution_count": 553,
     "metadata": {},
     "output_type": "execute_result"
    }
   ],
   "source": [
    "#9 Answer here\n",
    "analyze(\"\".join(list(X[:1].text)))"
   ]
  },
  {
   "cell_type": "code",
   "execution_count": 554,
   "metadata": {},
   "outputs": [
    {
     "data": {
      "text/plain": [
       "array([[0, 0, 0, 0, 0, 0, 0, 0, 0, 0, 0, 0, 0, 0, 0, 0, 0, 0, 0, 0, 0, 0,\n",
       "        0, 0, 0, 0, 0, 0, 0, 0, 0, 0, 0, 0, 0, 0, 0, 0, 0, 0, 0, 0, 0, 0,\n",
       "        0, 0, 0, 0, 0, 0, 0, 0, 0, 0, 0, 0, 0, 0, 0, 0, 0, 0, 0, 0, 0, 0,\n",
       "        0, 0, 0, 0, 0, 0, 0, 0, 0, 0, 0, 0, 0, 0, 0, 0, 0, 0, 0, 0, 0, 0,\n",
       "        0, 0, 0, 0, 0, 0, 0, 0, 0, 0, 0, 0],\n",
       "       [0, 0, 0, 0, 0, 0, 0, 0, 0, 0, 0, 0, 0, 0, 0, 0, 0, 0, 0, 0, 0, 0,\n",
       "        0, 0, 0, 0, 0, 0, 0, 0, 0, 0, 0, 0, 0, 0, 0, 0, 0, 0, 0, 0, 0, 0,\n",
       "        0, 0, 0, 0, 0, 0, 0, 0, 0, 0, 0, 0, 0, 0, 0, 0, 0, 0, 0, 0, 0, 0,\n",
       "        0, 0, 0, 0, 0, 0, 0, 0, 0, 0, 0, 0, 0, 0, 0, 0, 0, 0, 0, 0, 0, 0,\n",
       "        0, 0, 0, 0, 0, 0, 0, 0, 0, 0, 0, 0],\n",
       "       [0, 0, 0, 0, 0, 0, 0, 0, 0, 0, 0, 0, 0, 0, 0, 0, 0, 0, 0, 0, 0, 0,\n",
       "        0, 0, 0, 0, 0, 0, 0, 0, 0, 0, 0, 0, 0, 0, 0, 0, 0, 0, 0, 0, 0, 0,\n",
       "        0, 0, 0, 0, 0, 0, 0, 0, 0, 0, 0, 0, 0, 0, 0, 0, 0, 0, 0, 0, 0, 0,\n",
       "        0, 0, 0, 0, 0, 0, 0, 0, 0, 0, 0, 0, 0, 0, 0, 0, 0, 0, 0, 0, 0, 0,\n",
       "        0, 0, 0, 0, 0, 0, 0, 0, 0, 0, 0, 0],\n",
       "       [0, 0, 0, 0, 0, 0, 0, 0, 0, 0, 0, 0, 0, 0, 0, 0, 0, 0, 0, 0, 0, 0,\n",
       "        0, 0, 0, 0, 0, 0, 0, 0, 0, 0, 0, 0, 0, 0, 0, 0, 0, 0, 0, 0, 0, 0,\n",
       "        0, 0, 0, 0, 0, 0, 0, 0, 0, 0, 0, 0, 0, 0, 0, 0, 0, 0, 0, 0, 0, 0,\n",
       "        0, 0, 0, 0, 0, 0, 0, 0, 0, 0, 0, 0, 0, 0, 0, 0, 0, 0, 0, 0, 0, 0,\n",
       "        0, 0, 0, 0, 0, 0, 0, 0, 0, 0, 0, 0],\n",
       "       [1, 0, 0, 0, 0, 0, 0, 0, 0, 0, 0, 0, 0, 0, 0, 0, 0, 0, 0, 0, 0, 0,\n",
       "        0, 0, 0, 0, 0, 0, 0, 0, 0, 0, 0, 0, 0, 0, 0, 1, 0, 0, 0, 0, 0, 0,\n",
       "        0, 0, 0, 0, 0, 0, 0, 0, 0, 0, 0, 0, 0, 0, 0, 0, 0, 0, 0, 0, 0, 0,\n",
       "        0, 0, 0, 0, 0, 0, 0, 0, 0, 0, 0, 0, 0, 0, 0, 0, 0, 0, 0, 0, 0, 0,\n",
       "        0, 0, 0, 0, 0, 0, 0, 0, 0, 0, 0, 0]])"
      ]
     },
     "execution_count": 554,
     "metadata": {},
     "output_type": "execute_result"
    }
   ],
   "source": [
    "X_counts[0:5,0:100].toarray()"
   ]
  },
  {
   "cell_type": "code",
   "execution_count": 561,
   "metadata": {},
   "outputs": [],
   "source": [
    "a = X_counts[4:5,0:100].toarray()"
   ]
  },
  {
   "cell_type": "code",
   "execution_count": 562,
   "metadata": {},
   "outputs": [
    {
     "data": {
      "text/plain": [
       "(1, 1)"
      ]
     },
     "execution_count": 562,
     "metadata": {},
     "output_type": "execute_result"
    }
   ],
   "source": [
    "a[0][0], a[0][37]"
   ]
  },
  {
   "cell_type": "code",
   "execution_count": 563,
   "metadata": {},
   "outputs": [
    {
     "data": {
      "text/plain": [
       "[array(['00', '01'], dtype='<U80')]"
      ]
     },
     "execution_count": 563,
     "metadata": {},
     "output_type": "execute_result"
    }
   ],
   "source": [
    "#10 Answer here\n",
    "count_vect.inverse_transform(a[0])"
   ]
  },
  {
   "cell_type": "code",
   "execution_count": 564,
   "metadata": {},
   "outputs": [],
   "source": [
    "plot_x = [\"term_\"+str(i) for i in count_vect.get_feature_names()[0:40]]\n",
    "plot_y = [\"doc_\"+ str(i) for i in list(X.index)[0:40]]\n",
    "plot_z = X_counts[0:40, 0:40].toarray()"
   ]
  },
  {
   "cell_type": "code",
   "execution_count": 566,
   "metadata": {},
   "outputs": [
    {
     "data": {
      "image/png": "[encoded data removed]",
      "text/plain": [
       "<Figure size 1296x1008 with 2 Axes>"
      ]
     },
     "metadata": {},
     "output_type": "display_data"
    }
   ],
   "source": [
    "#11 Answer here\n",
    "import seaborn as sns\n",
    "plot_x = [\"_\"+str(i) for i in count_vect.get_feature_names()[0:100]]\n",
    "plot_y = [\"doc_\"+ str(i) for i in list(X.index)[0:100]]\n",
    "plot_z = X_counts[0:100, 0:100].toarray()\n",
    "\n",
    "df_todraw = pd.DataFrame(plot_z, columns = plot_x, index = plot_y)\n",
    "plt.subplots(figsize=(18, 14))\n",
    "ax = sns.heatmap(df_todraw,\n",
    "                cmap=\"PuRd\",\n",
    "                 vmin=0, vmax=1, annot=True)"
   ]
  },
  {
   "cell_type": "code",
   "execution_count": 567,
   "metadata": {},
   "outputs": [],
   "source": [
    "from sklearn.decomposition import PCA\n",
    "X_reduced = PCA(n_components = 2).fit_transform(X_counts.toarray())"
   ]
  },
  {
   "cell_type": "code",
   "execution_count": 570,
   "metadata": {},
   "outputs": [
    {
     "data": {
      "image/png": "[encoded data removed]",
      "text/plain": [
       "<Figure size 720x360 with 1 Axes>"
      ]
     },
     "metadata": {},
     "output_type": "display_data"
    },
    {
     "data": {
      "image/png": "[encoded data removed]",
      "text/plain": [
       "<Figure size 720x360 with 1 Axes>"
      ]
     },
     "metadata": {},
     "output_type": "display_data"
    },
    {
     "data": {
      "image/png": "[encoded data removed]",
      "text/plain": [
       "<Figure size 720x360 with 1 Axes>"
      ]
     },
     "metadata": {},
     "output_type": "display_data"
    }
   ],
   "source": [
    "#12 Answer here\n",
    "# Answer here\n",
    "X_reduced = PCA(n_components = 3).fit_transform(X_counts.toarray())\n",
    "from mpl_toolkits.mplot3d import Axes3D\n",
    "\n",
    "col = ['coral', 'blue', 'black', 'm']\n",
    "\n",
    "########## plot 1111111\n",
    "fig = plt.figure(figsize = (10,5))\n",
    "ax = fig.add_subplot(2,2,1, projection='3d')\n",
    "\n",
    "for c, category in zip(col, categories):\n",
    "    xs = X_reduced[X['category_name'] == category].T[0]\n",
    "    ys = X_reduced[X['category_name'] == category].T[1]\n",
    "    zs = X_reduced[X['category_name'] == category].T[2]\n",
    "        \n",
    "    ax.scatter(xs, ys, zs, c = c, marker='o')\n",
    "\n",
    "ax.set_xlabel('\\nX Label')\n",
    "ax.set_ylabel('\\nY Label')\n",
    "ax.set_zlabel('\\nZ Label')\n",
    "\n",
    "plt.show()\n",
    "\n",
    "########## plot 2222222222\n",
    "fig = plt.figure(figsize = (10,5))\n",
    "ax = fig.add_subplot(222, projection='3d')\n",
    "\n",
    "for c, category in zip(col, categories):\n",
    "    xs = X_reduced[X['category_name'] == category].T[1]\n",
    "    ys = X_reduced[X['category_name'] == category].T[1]\n",
    "    zs = X_reduced[X['category_name'] == category].T[2]\n",
    "        \n",
    "    ax.scatter(xs, ys, zs, c = c, marker='o')\n",
    "\n",
    "ax.set_xlabel('\\nX Label')\n",
    "ax.set_ylabel('\\nY Label')\n",
    "ax.set_zlabel('\\nZ Label')\n",
    "\n",
    "# rotate the axes and update\n",
    "plt.draw()\n",
    "\n",
    "\n",
    "########## plot 2222222222\n",
    "fig = plt.figure(figsize = (10,5))\n",
    "ax = fig.add_subplot(2,2,3, projection='3d')\n",
    "\n",
    "for c, category in zip(col, categories):\n",
    "    xs = X_reduced[X['category_name'] == category].T[2]\n",
    "    ys = X_reduced[X['category_name'] == category].T[1]\n",
    "    zs = X_reduced[X['category_name'] == category].T[2]\n",
    "        \n",
    "    ax.scatter(xs, ys, zs, c = c, marker='o')\n",
    "\n",
    "ax.set_xlabel('\\nX Label')\n",
    "ax.set_ylabel('\\nY Label')\n",
    "ax.set_zlabel('\\nZ Label')\n",
    "\n",
    "# rotate the axes and update\n",
    "ax.view_init(55, 180)\n",
    "plt.draw()"
   ]
  },
  {
   "cell_type": "code",
   "execution_count": 573,
   "metadata": {},
   "outputs": [],
   "source": [
    "term_frequencies = []\n",
    "for j in range(0,X_counts.shape[1]):\n",
    "    term_frequencies.append(sum(X_counts[:,j].toarray()))"
   ]
  },
  {
   "cell_type": "code",
   "execution_count": 574,
   "metadata": {},
   "outputs": [],
   "source": [
    "term_frequencies = np.asarray(X_counts.sum(axis=0))[0]"
   ]
  },
  {
   "cell_type": "code",
   "execution_count": 571,
   "metadata": {},
   "outputs": [],
   "source": [
    "import plotly\n",
    "plotly.tools.set_credentials_file(username='n.phthak', api_key='Pto4junfTlHdZfLN3iFT')\n",
    "\n",
    "import plotly.plotly as py\n",
    "import plotly.graph_objs as go"
   ]
  },
  {
   "cell_type": "code",
   "execution_count": 576,
   "metadata": {},
   "outputs": [
    {
     "name": "stdout",
     "output_type": "stream",
     "text": [
      "High five! You successfully sent some data to your account on plotly. View your plot in your browser at https://plot.ly/~n.phthak/0 or inside your plot.ly account where it is named 'basic-line'\n"
     ]
    },
    {
     "name": "stderr",
     "output_type": "stream",
     "text": [
      "/anaconda3/lib/python3.6/site-packages/plotly/api/v1/clientresp.py:40: UserWarning:\n",
      "\n",
      "Estimated Draw Time Slow\n",
      "\n"
     ]
    },
    {
     "data": {
      "text/html": [
       "<iframe id=\"igraph\" scrolling=\"no\" style=\"border:none;\" seamless=\"seamless\" src=\"https://plot.ly/~n.phthak/0.embed\" height=\"525px\" width=\"100%\"></iframe>"
      ],
      "text/plain": [
       "<plotly.tools.PlotlyDisplay object>"
      ]
     },
     "execution_count": 576,
     "metadata": {},
     "output_type": "execute_result"
    }
   ],
   "source": [
    "#13 Answer here\n",
    "data = [go.Bar(\n",
    "            x=[\"_\"+str(i) for i in count_vect.get_feature_names()],\n",
    "            y=term_frequencies\n",
    "    )]\n",
    "\n",
    "py.iplot(data, filename = 'basic-line')"
   ]
  },
  {
   "cell_type": "code",
   "execution_count": 577,
   "metadata": {},
   "outputs": [
    {
     "data": {
      "text/html": [
       "<iframe id=\"igraph\" scrolling=\"no\" style=\"border:none;\" seamless=\"seamless\" src=\"https://plot.ly/~n.phthak/2.embed\" height=\"525px\" width=\"100%\"></iframe>"
      ],
      "text/plain": [
       "<plotly.tools.PlotlyDisplay object>"
      ]
     },
     "execution_count": 577,
     "metadata": {},
     "output_type": "execute_result"
    }
   ],
   "source": [
    "#14 Answer here\n",
    "data = [go.Bar(\n",
    "            x=[\"_\"+str(i) for i in count_vect.get_feature_names()[:100]],\n",
    "            y=term_frequencies[:100]\n",
    "    )]\n",
    "\n",
    "py.iplot(data, filename = 'basic-line-sample')"
   ]
  },
  {
   "cell_type": "code",
   "execution_count": 583,
   "metadata": {},
   "outputs": [
    {
     "data": {
      "text/html": [
       "<iframe id=\"igraph\" scrolling=\"no\" style=\"border:none;\" seamless=\"seamless\" src=\"https://plot.ly/~n.phthak/2.embed\" height=\"525px\" width=\"100%\"></iframe>"
      ],
      "text/plain": [
       "<plotly.tools.PlotlyDisplay object>"
      ]
     },
     "execution_count": 583,
     "metadata": {},
     "output_type": "execute_result"
    }
   ],
   "source": [
    "#15 Answer here\n",
    "data = [go.Bar(\n",
    "            x=[\"_\"+str(i) for i in count_vect.get_feature_names()[:100]],\n",
    "            y=sorted(term_frequencies[:100], reverse = True)\n",
    "    )]\n",
    "\n",
    "py.iplot(data, filename = 'basic-line-sample')"
   ]
  },
  {
   "cell_type": "code",
   "execution_count": 579,
   "metadata": {},
   "outputs": [],
   "source": [
    "from sklearn import preprocessing, metrics, decomposition, pipeline, dummy\n",
    "mlb = preprocessing.LabelBinarizer()"
   ]
  },
  {
   "cell_type": "code",
   "execution_count": 580,
   "metadata": {},
   "outputs": [
    {
     "data": {
      "text/plain": [
       "LabelBinarizer(neg_label=0, pos_label=1, sparse_output=False)"
      ]
     },
     "execution_count": 580,
     "metadata": {},
     "output_type": "execute_result"
    }
   ],
   "source": [
    "mlb.fit(X.category_name)"
   ]
  },
  {
   "cell_type": "code",
   "execution_count": 581,
   "metadata": {},
   "outputs": [
    {
     "data": {
      "text/plain": [
       "array(['alt.atheism', 'comp.graphics', 'sci.med',\n",
       "       'soc.religion.christian'], dtype='<U22')"
      ]
     },
     "execution_count": 581,
     "metadata": {},
     "output_type": "execute_result"
    }
   ],
   "source": [
    "mlb.classes_"
   ]
  },
  {
   "cell_type": "code",
   "execution_count": 582,
   "metadata": {},
   "outputs": [],
   "source": [
    "#16 Answer here\n",
    "X['bin_category_name'] = mlb.transform(X['category_name']).tolist()"
   ]
  },
  {
   "cell_type": "markdown",
   "metadata": {},
   "source": [
    "# Assignment 1 begin here"
   ]
  },
  {
   "cell_type": "code",
   "execution_count": 410,
   "metadata": {},
   "outputs": [
    {
     "name": "stdout",
     "output_type": "stream",
     "text": [
      "The autoreload extension is already loaded. To reload it, use:\n",
      "  %reload_ext autoreload\n"
     ]
    }
   ],
   "source": [
    "### Begin Assignment Here!\n",
    "%load_ext autoreload\n",
    "%autoreload 2"
   ]
  },
  {
   "cell_type": "code",
   "execution_count": 411,
   "metadata": {},
   "outputs": [],
   "source": [
    "import numpy as np\n",
    "import pandas as pd"
   ]
  },
  {
   "cell_type": "code",
   "execution_count": 412,
   "metadata": {},
   "outputs": [],
   "source": [
    "#import files\n",
    "\n",
    "amazon_file = 'amazon_cells_labelled.txt'\n",
    "amazon = open(amazon_file, mode ='r')\n",
    "\n",
    "imdb_file = 'imdb_labelled.txt'\n",
    "imdb = open(imdb_file, mode ='r')\n",
    "\n",
    "yelp_file = 'yelp_labelled.txt'\n",
    "yelp = open(yelp_file, mode ='r')"
   ]
  },
  {
   "cell_type": "code",
   "execution_count": 413,
   "metadata": {},
   "outputs": [],
   "source": [
    "#assign the variables\n",
    "amazon.seek(0)\n",
    "amazon_array = amazon.readlines()\n",
    "\n",
    "imdb.seek(0)\n",
    "im_array = imdb.readlines()\n",
    "\n",
    "yelp.seek(0)\n",
    "yelp_array = yelp.readlines()"
   ]
  },
  {
   "cell_type": "code",
   "execution_count": 599,
   "metadata": {},
   "outputs": [
    {
     "data": {
      "text/plain": [
       "['Wow... Loved this place.\\t1\\n',\n",
       " 'Crust is not good.\\t0\\n',\n",
       " 'Not tasty and the texture was just nasty.\\t0\\n',\n",
       " 'Stopped by during the late May bank holiday off Rick Steve recommendation and loved it.\\t1\\n',\n",
       " 'The selection on the menu was great and so were the prices.\\t1\\n',\n",
       " 'Now I am getting angry and I want my damn pho.\\t0\\n',\n",
       " \"Honeslty it didn't taste THAT fresh.)\\t0\\n\",\n",
       " 'The potatoes were like rubber and you could tell they had been made up ahead of time being kept under a warmer.\\t0\\n',\n",
       " 'The fries were great too.\\t1\\n',\n",
       " 'A great touch.\\t1\\n']"
      ]
     },
     "execution_count": 599,
     "metadata": {},
     "output_type": "execute_result"
    }
   ],
   "source": [
    "#example display\n",
    "yelp_array[:10]"
   ]
  },
  {
   "cell_type": "code",
   "execution_count": 415,
   "metadata": {},
   "outputs": [
    {
     "data": {
      "text/plain": [
       "_io.TextIOWrapper"
      ]
     },
     "execution_count": 415,
     "metadata": {},
     "output_type": "execute_result"
    }
   ],
   "source": [
    "type(amazon)\n",
    "type(imdb)\n",
    "type(yelp)"
   ]
  },
  {
   "cell_type": "code",
   "execution_count": 416,
   "metadata": {},
   "outputs": [],
   "source": [
    "#combine 3 text together\n",
    "text = np.concatenate((amazon_array, im_array, yelp_array),axis=0)"
   ]
  },
  {
   "cell_type": "code",
   "execution_count": 417,
   "metadata": {},
   "outputs": [
    {
     "data": {
      "text/plain": [
       "array(['So there is no way for me to plug it in here in the US unless I go by a converter.\\t0\\n',\n",
       "       'Good case, Excellent value.\\t1\\n', 'Great for the jawbone.\\t1\\n',\n",
       "       ..., 'Overall I was not impressed and would not go back.\\t0\\n',\n",
       "       \"The whole experience was underwhelming, and I think we'll just go to Ninja Sushi next time.\\t0\\n\",\n",
       "       \"Then, as if I hadn't wasted enough of my life there, they poured salt in the wound by drawing out the time it took to bring the check.\\t0\\n\"],\n",
       "      dtype='<U482')"
      ]
     },
     "execution_count": 417,
     "metadata": {},
     "output_type": "execute_result"
    }
   ],
   "source": [
    "text"
   ]
  },
  {
   "cell_type": "code",
   "execution_count": 418,
   "metadata": {},
   "outputs": [
    {
     "data": {
      "text/plain": [
       "3000"
      ]
     },
     "execution_count": 418,
     "metadata": {},
     "output_type": "execute_result"
    }
   ],
   "source": [
    "len(text)"
   ]
  },
  {
   "cell_type": "code",
   "execution_count": 419,
   "metadata": {},
   "outputs": [],
   "source": [
    "#arrays to store elements\n",
    "text_array = []\n",
    "feedback_array = []\n",
    "\n",
    "for element in text:\n",
    "    i = element.split('\\t')\n",
    "    text_array += [i[0]]\n",
    "    feedback_array += [i[1].strip('\\n')]"
   ]
  },
  {
   "cell_type": "code",
   "execution_count": 420,
   "metadata": {},
   "outputs": [
    {
     "data": {
      "text/plain": [
       "['So there is no way for me to plug it in here in the US unless I go by a converter.',\n",
       " 'Good case, Excellent value.',\n",
       " 'Great for the jawbone.',\n",
       " 'Tied to charger for conversations lasting more than 45 minutes.MAJOR PROBLEMS!!',\n",
       " 'The mic is great.',\n",
       " 'I have to jiggle the plug to get it to line up right to get decent volume.',\n",
       " 'If you have several dozen or several hundred contacts, then imagine the fun of sending each of them one by one.',\n",
       " 'If you are Razr owner...you must have this!',\n",
       " 'Needless to say, I wasted my money.',\n",
       " 'What a waste of money and time!.']"
      ]
     },
     "execution_count": 420,
     "metadata": {},
     "output_type": "execute_result"
    }
   ],
   "source": [
    "text_array[:10]"
   ]
  },
  {
   "cell_type": "code",
   "execution_count": 421,
   "metadata": {
    "scrolled": false
   },
   "outputs": [
    {
     "data": {
      "text/plain": [
       "['0', '1', '1', '0', '1', '0', '0', '1', '0', '0']"
      ]
     },
     "execution_count": 421,
     "metadata": {},
     "output_type": "execute_result"
    }
   ],
   "source": [
    "feedback_array[:10]"
   ]
  },
  {
   "cell_type": "code",
   "execution_count": 422,
   "metadata": {},
   "outputs": [],
   "source": [
    "company_array = []\n",
    "\n",
    "for n in range(1000):\n",
    "    company_array += [\"amazon\"]\n",
    "\n",
    "for n in range(1000,2000):\n",
    "    company_array += [\"imdb\"]\n",
    "    \n",
    "for n in range(2000,3000):\n",
    "    company_array += [\"yelp\"]"
   ]
  },
  {
   "cell_type": "code",
   "execution_count": 423,
   "metadata": {},
   "outputs": [
    {
     "data": {
      "text/plain": [
       "['amazon', 'amazon', 'imdb', 'imdb', 'imdb']"
      ]
     },
     "execution_count": 423,
     "metadata": {},
     "output_type": "execute_result"
    }
   ],
   "source": [
    "company_array[998:1003]"
   ]
  },
  {
   "cell_type": "code",
   "execution_count": 424,
   "metadata": {},
   "outputs": [
    {
     "data": {
      "text/plain": [
       "3000"
      ]
     },
     "execution_count": 424,
     "metadata": {},
     "output_type": "execute_result"
    }
   ],
   "source": [
    "len(company_array)"
   ]
  },
  {
   "cell_type": "code",
   "execution_count": 425,
   "metadata": {},
   "outputs": [],
   "source": [
    "text_ = {'Text': text_array, 'Feedback': feedback_array, 'Company': company_array}\n",
    "text_data = pd.DataFrame(data = text_)"
   ]
  },
  {
   "cell_type": "code",
   "execution_count": 426,
   "metadata": {
    "scrolled": true
   },
   "outputs": [
    {
     "data": {
      "text/html": [
       "<div>\n",
       "<style scoped>\n",
       "    .dataframe tbody tr th:only-of-type {\n",
       "        vertical-align: middle;\n",
       "    }\n",
       "\n",
       "    .dataframe tbody tr th {\n",
       "        vertical-align: top;\n",
       "    }\n",
       "\n",
       "    .dataframe thead th {\n",
       "        text-align: right;\n",
       "    }\n",
       "</style>\n",
       "<table border=\"1\" class=\"dataframe\">\n",
       "  <thead>\n",
       "    <tr style=\"text-align: right;\">\n",
       "      <th></th>\n",
       "      <th>Text</th>\n",
       "      <th>Feedback</th>\n",
       "      <th>Company</th>\n",
       "    </tr>\n",
       "  </thead>\n",
       "  <tbody>\n",
       "    <tr>\n",
       "      <th>0</th>\n",
       "      <td>So there is no way for me to plug it in here i...</td>\n",
       "      <td>0</td>\n",
       "      <td>amazon</td>\n",
       "    </tr>\n",
       "    <tr>\n",
       "      <th>1</th>\n",
       "      <td>Good case, Excellent value.</td>\n",
       "      <td>1</td>\n",
       "      <td>amazon</td>\n",
       "    </tr>\n",
       "    <tr>\n",
       "      <th>2</th>\n",
       "      <td>Great for the jawbone.</td>\n",
       "      <td>1</td>\n",
       "      <td>amazon</td>\n",
       "    </tr>\n",
       "    <tr>\n",
       "      <th>3</th>\n",
       "      <td>Tied to charger for conversations lasting more...</td>\n",
       "      <td>0</td>\n",
       "      <td>amazon</td>\n",
       "    </tr>\n",
       "    <tr>\n",
       "      <th>4</th>\n",
       "      <td>The mic is great.</td>\n",
       "      <td>1</td>\n",
       "      <td>amazon</td>\n",
       "    </tr>\n",
       "    <tr>\n",
       "      <th>5</th>\n",
       "      <td>I have to jiggle the plug to get it to line up...</td>\n",
       "      <td>0</td>\n",
       "      <td>amazon</td>\n",
       "    </tr>\n",
       "    <tr>\n",
       "      <th>6</th>\n",
       "      <td>If you have several dozen or several hundred c...</td>\n",
       "      <td>0</td>\n",
       "      <td>amazon</td>\n",
       "    </tr>\n",
       "    <tr>\n",
       "      <th>7</th>\n",
       "      <td>If you are Razr owner...you must have this!</td>\n",
       "      <td>1</td>\n",
       "      <td>amazon</td>\n",
       "    </tr>\n",
       "    <tr>\n",
       "      <th>8</th>\n",
       "      <td>Needless to say, I wasted my money.</td>\n",
       "      <td>0</td>\n",
       "      <td>amazon</td>\n",
       "    </tr>\n",
       "    <tr>\n",
       "      <th>9</th>\n",
       "      <td>What a waste of money and time!.</td>\n",
       "      <td>0</td>\n",
       "      <td>amazon</td>\n",
       "    </tr>\n",
       "  </tbody>\n",
       "</table>\n",
       "</div>"
      ],
      "text/plain": [
       "                                                Text Feedback Company\n",
       "0  So there is no way for me to plug it in here i...        0  amazon\n",
       "1                        Good case, Excellent value.        1  amazon\n",
       "2                             Great for the jawbone.        1  amazon\n",
       "3  Tied to charger for conversations lasting more...        0  amazon\n",
       "4                                  The mic is great.        1  amazon\n",
       "5  I have to jiggle the plug to get it to line up...        0  amazon\n",
       "6  If you have several dozen or several hundred c...        0  amazon\n",
       "7        If you are Razr owner...you must have this!        1  amazon\n",
       "8                Needless to say, I wasted my money.        0  amazon\n",
       "9                   What a waste of money and time!.        0  amazon"
      ]
     },
     "execution_count": 426,
     "metadata": {},
     "output_type": "execute_result"
    }
   ],
   "source": [
    "text_data[:10]"
   ]
  },
  {
   "cell_type": "code",
   "execution_count": 427,
   "metadata": {},
   "outputs": [
    {
     "data": {
      "text/html": [
       "<div>\n",
       "<style scoped>\n",
       "    .dataframe tbody tr th:only-of-type {\n",
       "        vertical-align: middle;\n",
       "    }\n",
       "\n",
       "    .dataframe tbody tr th {\n",
       "        vertical-align: top;\n",
       "    }\n",
       "\n",
       "    .dataframe thead th {\n",
       "        text-align: right;\n",
       "    }\n",
       "</style>\n",
       "<table border=\"1\" class=\"dataframe\">\n",
       "  <thead>\n",
       "    <tr style=\"text-align: right;\">\n",
       "      <th></th>\n",
       "      <th>Text</th>\n",
       "      <th>Feedback</th>\n",
       "      <th>Company</th>\n",
       "    </tr>\n",
       "  </thead>\n",
       "  <tbody>\n",
       "    <tr>\n",
       "      <th>219</th>\n",
       "      <td>I'm still infatuated with this phone.</td>\n",
       "      <td>1</td>\n",
       "      <td>amazon</td>\n",
       "    </tr>\n",
       "    <tr>\n",
       "      <th>2571</th>\n",
       "      <td>We recently witnessed her poor quality of mana...</td>\n",
       "      <td>0</td>\n",
       "      <td>yelp</td>\n",
       "    </tr>\n",
       "    <tr>\n",
       "      <th>2523</th>\n",
       "      <td>first time there and might just be the last.</td>\n",
       "      <td>0</td>\n",
       "      <td>yelp</td>\n",
       "    </tr>\n",
       "    <tr>\n",
       "      <th>1600</th>\n",
       "      <td>Perabo has a nice energy level and is obviousl...</td>\n",
       "      <td>1</td>\n",
       "      <td>imdb</td>\n",
       "    </tr>\n",
       "    <tr>\n",
       "      <th>1470</th>\n",
       "      <td>Even the squibs look awful.</td>\n",
       "      <td>0</td>\n",
       "      <td>imdb</td>\n",
       "    </tr>\n",
       "    <tr>\n",
       "      <th>2123</th>\n",
       "      <td>The guys all had steaks, and our steak loving ...</td>\n",
       "      <td>1</td>\n",
       "      <td>yelp</td>\n",
       "    </tr>\n",
       "    <tr>\n",
       "      <th>2365</th>\n",
       "      <td>I find wasting food to be despicable, but this...</td>\n",
       "      <td>0</td>\n",
       "      <td>yelp</td>\n",
       "    </tr>\n",
       "    <tr>\n",
       "      <th>164</th>\n",
       "      <td>I still maintain that monkeys shouldn't make h...</td>\n",
       "      <td>0</td>\n",
       "      <td>amazon</td>\n",
       "    </tr>\n",
       "    <tr>\n",
       "      <th>1018</th>\n",
       "      <td>It's practically perfect in all of them  a tr...</td>\n",
       "      <td>1</td>\n",
       "      <td>imdb</td>\n",
       "    </tr>\n",
       "    <tr>\n",
       "      <th>990</th>\n",
       "      <td>I'm really disappointed all I have now is a ch...</td>\n",
       "      <td>0</td>\n",
       "      <td>amazon</td>\n",
       "    </tr>\n",
       "  </tbody>\n",
       "</table>\n",
       "</div>"
      ],
      "text/plain": [
       "                                                   Text Feedback Company\n",
       "219               I'm still infatuated with this phone.        1  amazon\n",
       "2571  We recently witnessed her poor quality of mana...        0    yelp\n",
       "2523       first time there and might just be the last.        0    yelp\n",
       "1600  Perabo has a nice energy level and is obviousl...        1    imdb\n",
       "1470                      Even the squibs look awful.          0    imdb\n",
       "2123  The guys all had steaks, and our steak loving ...        1    yelp\n",
       "2365  I find wasting food to be despicable, but this...        0    yelp\n",
       "164   I still maintain that monkeys shouldn't make h...        0  amazon\n",
       "1018  It's practically perfect in all of them  a tr...        1    imdb\n",
       "990   I'm really disappointed all I have now is a ch...        0  amazon"
      ]
     },
     "execution_count": 427,
     "metadata": {},
     "output_type": "execute_result"
    }
   ],
   "source": [
    "text_data.sample(10)"
   ]
  },
  {
   "cell_type": "code",
   "execution_count": 428,
   "metadata": {},
   "outputs": [
    {
     "data": {
      "text/plain": [
       "0       False\n",
       "1       False\n",
       "2       False\n",
       "3       False\n",
       "4       False\n",
       "5       False\n",
       "6       False\n",
       "7       False\n",
       "8       False\n",
       "9       False\n",
       "10      False\n",
       "11      False\n",
       "12      False\n",
       "13      False\n",
       "14      False\n",
       "15      False\n",
       "16      False\n",
       "17      False\n",
       "18      False\n",
       "19      False\n",
       "20      False\n",
       "21      False\n",
       "22      False\n",
       "23      False\n",
       "24      False\n",
       "25      False\n",
       "26      False\n",
       "27      False\n",
       "28      False\n",
       "29      False\n",
       "        ...  \n",
       "2970    False\n",
       "2971    False\n",
       "2972    False\n",
       "2973    False\n",
       "2974    False\n",
       "2975    False\n",
       "2976    False\n",
       "2977    False\n",
       "2978    False\n",
       "2979    False\n",
       "2980    False\n",
       "2981    False\n",
       "2982    False\n",
       "2983    False\n",
       "2984    False\n",
       "2985    False\n",
       "2986    False\n",
       "2987    False\n",
       "2988    False\n",
       "2989    False\n",
       "2990    False\n",
       "2991    False\n",
       "2992    False\n",
       "2993    False\n",
       "2994    False\n",
       "2995    False\n",
       "2996    False\n",
       "2997    False\n",
       "2998    False\n",
       "2999    False\n",
       "Length: 3000, dtype: bool"
      ]
     },
     "execution_count": 428,
     "metadata": {},
     "output_type": "execute_result"
    }
   ],
   "source": [
    "text_data.duplicated()"
   ]
  },
  {
   "cell_type": "code",
   "execution_count": 429,
   "metadata": {},
   "outputs": [
    {
     "data": {
      "text/plain": [
       "17"
      ]
     },
     "execution_count": 429,
     "metadata": {},
     "output_type": "execute_result"
    }
   ],
   "source": [
    "sum(text_data.duplicated())"
   ]
  },
  {
   "cell_type": "code",
   "execution_count": 430,
   "metadata": {},
   "outputs": [],
   "source": [
    "# delete the duplicate data\n",
    "text_data.drop_duplicates(keep=False, inplace=True)"
   ]
  },
  {
   "cell_type": "code",
   "execution_count": 431,
   "metadata": {},
   "outputs": [
    {
     "data": {
      "text/plain": [
       "0"
      ]
     },
     "execution_count": 431,
     "metadata": {},
     "output_type": "execute_result"
    }
   ],
   "source": [
    "sum(text_data.duplicated())"
   ]
  },
  {
   "cell_type": "code",
   "execution_count": 432,
   "metadata": {},
   "outputs": [
    {
     "data": {
      "text/plain": [
       "2966"
      ]
     },
     "execution_count": 432,
     "metadata": {},
     "output_type": "execute_result"
    }
   ],
   "source": [
    "len(text_data)"
   ]
  },
  {
   "cell_type": "code",
   "execution_count": 433,
   "metadata": {},
   "outputs": [
    {
     "name": "stdout",
     "output_type": "stream",
     "text": [
      "imdb      994\n",
      "yelp      992\n",
      "amazon    980\n",
      "Name: Company, dtype: int64\n"
     ]
    },
    {
     "data": {
      "text/plain": [
       "<matplotlib.axes._subplots.AxesSubplot at 0x1a39245c18>"
      ]
     },
     "execution_count": 433,
     "metadata": {},
     "output_type": "execute_result"
    },
    {
     "data": {
      "image/png": "[encoded data removed]",
      "text/plain": [
       "<Figure size 576x216 with 1 Axes>"
      ]
     },
     "metadata": {},
     "output_type": "display_data"
    }
   ],
   "source": [
    "import matplotlib.pyplot as plt\n",
    "%matplotlib inline\n",
    "\n",
    "print(text_data.Company.value_counts())\n",
    "\n",
    "upper_bound = max(text_data.Company.value_counts()) + 50\n",
    "\n",
    "text_data.Company.value_counts().plot(kind = 'bar',\n",
    "                                    title = 'Data distribution',\n",
    "                                    ylim = [0, upper_bound],        \n",
    "                                    rot = 0, fontsize = 11, figsize = (8,3))"
   ]
  },
  {
   "cell_type": "code",
   "execution_count": 434,
   "metadata": {},
   "outputs": [
    {
     "name": "stdout",
     "output_type": "stream",
     "text": [
      "yelp      349\n",
      "imdb      335\n",
      "amazon    316\n",
      "Name: Company, dtype: int64\n"
     ]
    },
    {
     "data": {
      "text/plain": [
       "<matplotlib.axes._subplots.AxesSubplot at 0x1a39309c50>"
      ]
     },
     "execution_count": 434,
     "metadata": {},
     "output_type": "execute_result"
    },
    {
     "data": {
      "image/png": "[encoded data removed]",
      "text/plain": [
       "<Figure size 576x216 with 1 Axes>"
      ]
     },
     "metadata": {},
     "output_type": "display_data"
    }
   ],
   "source": [
    "import matplotlib.pyplot as plt\n",
    "%matplotlib inline\n",
    "\n",
    "data_sample = text_data.sample(1000)\n",
    "\n",
    "print(data_sample.Company.value_counts())\n",
    "\n",
    "upper_bound = max(data_sample.Company.value_counts()) + 10\n",
    "\n",
    "data_sample.Company.value_counts().plot(kind = 'bar',\n",
    "                                    title = 'Data distribution',\n",
    "                                    ylim = [0, upper_bound],        \n",
    "                                    rot = 0, fontsize = 11, figsize = (8,3))"
   ]
  },
  {
   "cell_type": "code",
   "execution_count": 435,
   "metadata": {},
   "outputs": [
    {
     "data": {
      "image/png": "[encoded data removed]",
      "text/plain": [
       "<Figure size 432x288 with 1 Axes>"
      ]
     },
     "metadata": {},
     "output_type": "display_data"
    },
    {
     "data": {
      "text/plain": [
       "<Figure size 432x288 with 0 Axes>"
      ]
     },
     "metadata": {},
     "output_type": "display_data"
    }
   ],
   "source": [
    "n_groups = 3\n",
    "y = data_sample.Company.value_counts()\n",
    "z = text_data.Company.value_counts()\n",
    " \n",
    "\n",
    "# create plot\n",
    "fig, ax = plt.subplots()\n",
    "index = np.arange(n_groups)\n",
    "bar_width = 0.2\n",
    " \n",
    "rects1 = plt.bar(index, y, bar_width,\n",
    "                 label='Text')\n",
    " \n",
    "rects2 = plt.bar(index + bar_width, z, bar_width,\n",
    "                 label='Text_sample')\n",
    " \n",
    "plt.title('Category distribution')\n",
    "plt.xticks(index + bar_width, (\"soc.religion.christian\",\"sci.med\",\"comp.graphics\",\"alt.atheism\"))\n",
    "plt.legend()\n",
    " \n",
    "plt.tight_layout()\n",
    "plt.show()\n",
    "multiple_bars = plt.figure()"
   ]
  },
  {
   "cell_type": "code",
   "execution_count": 436,
   "metadata": {},
   "outputs": [],
   "source": [
    "text_array_split = []\n",
    "\n",
    "for n in text_array[:10]:\n",
    "    nn = n.split(' ')\n",
    "    text_array_split += [nn[0]]"
   ]
  },
  {
   "cell_type": "code",
   "execution_count": 437,
   "metadata": {},
   "outputs": [
    {
     "data": {
      "text/plain": [
       "['So', 'Good', 'Great', 'Tied', 'The', 'I', 'If', 'If', 'Needless', 'What']"
      ]
     },
     "execution_count": 437,
     "metadata": {},
     "output_type": "execute_result"
    }
   ],
   "source": [
    "text_array_split"
   ]
  },
  {
   "cell_type": "code",
   "execution_count": 438,
   "metadata": {},
   "outputs": [
    {
     "name": "stdout",
     "output_type": "stream",
     "text": [
      "[nltk_data] Downloading package punkt to /Users/apple/nltk_data...\n",
      "[nltk_data]   Package punkt is already up-to-date!\n"
     ]
    },
    {
     "data": {
      "text/plain": [
       "True"
      ]
     },
     "execution_count": 438,
     "metadata": {},
     "output_type": "execute_result"
    }
   ],
   "source": [
    "import nltk\n",
    "nltk.download('punkt')"
   ]
  },
  {
   "cell_type": "code",
   "execution_count": 507,
   "metadata": {},
   "outputs": [],
   "source": [
    "from sklearn.feature_extraction.text import CountVectorizer\n",
    "CV = CountVectorizer()\n",
    "text_array_count = CV.fit_transform(text_data.Text)"
   ]
  },
  {
   "cell_type": "code",
   "execution_count": 440,
   "metadata": {},
   "outputs": [
    {
     "data": {
      "text/plain": [
       "<2966x5153 sparse matrix of type '<class 'numpy.int64'>'\n",
       "\twith 31452 stored elements in Compressed Sparse Row format>"
      ]
     },
     "execution_count": 440,
     "metadata": {},
     "output_type": "execute_result"
    }
   ],
   "source": [
    "text_array_count"
   ]
  },
  {
   "cell_type": "code",
   "execution_count": 441,
   "metadata": {},
   "outputs": [
    {
     "data": {
      "text/plain": [
       "(2966, 5153)"
      ]
     },
     "execution_count": 441,
     "metadata": {},
     "output_type": "execute_result"
    }
   ],
   "source": [
    "text_array_count.shape"
   ]
  },
  {
   "cell_type": "code",
   "execution_count": 442,
   "metadata": {},
   "outputs": [
    {
     "data": {
      "text/plain": [
       "['so',\n",
       " 'there',\n",
       " 'is',\n",
       " 'no',\n",
       " 'way',\n",
       " 'for',\n",
       " 'me',\n",
       " 'to',\n",
       " 'plug',\n",
       " 'it',\n",
       " 'in',\n",
       " 'here',\n",
       " 'in',\n",
       " 'the',\n",
       " 'us',\n",
       " 'unless',\n",
       " 'go',\n",
       " 'by',\n",
       " 'converter']"
      ]
     },
     "execution_count": 442,
     "metadata": {},
     "output_type": "execute_result"
    }
   ],
   "source": [
    "analyze = CV.build_analyzer()\n",
    "analyze(\"\".join(list(text_array[:1])))"
   ]
  },
  {
   "cell_type": "code",
   "execution_count": 443,
   "metadata": {
    "scrolled": true
   },
   "outputs": [
    {
     "data": {
      "text/plain": [
       "['00',\n",
       " '10',\n",
       " '100',\n",
       " '11',\n",
       " '12',\n",
       " '13',\n",
       " '15',\n",
       " '15g',\n",
       " '15pm',\n",
       " '17',\n",
       " '18',\n",
       " '18th',\n",
       " '1928',\n",
       " '1947',\n",
       " '1948',\n",
       " '1949',\n",
       " '1971',\n",
       " '1973',\n",
       " '1979',\n",
       " '1980']"
      ]
     },
     "execution_count": 443,
     "metadata": {},
     "output_type": "execute_result"
    }
   ],
   "source": [
    "#arrange the words in alphabet\n",
    "CV.get_feature_names()[0:20]"
   ]
  },
  {
   "cell_type": "code",
   "execution_count": 444,
   "metadata": {
    "scrolled": true
   },
   "outputs": [
    {
     "data": {
      "text/plain": [
       "array([[0, 0, 0, 0, 0, 0, 0, 0, 0, 0, 0, 0, 0, 0, 0, 0, 0, 0, 0, 0, 0, 0,\n",
       "        0, 0, 0, 0, 0, 0, 0, 0, 0, 0, 0, 0, 0, 0, 0, 0, 0, 0, 0, 0, 0, 0,\n",
       "        0, 0, 0, 0, 0, 0, 0, 0, 0, 0, 0, 0, 0, 0, 0, 0, 0, 0, 0, 0, 0, 0,\n",
       "        0, 0, 0, 0, 0, 0, 0, 0, 0, 0, 0, 0, 0, 0, 0, 0, 0, 0, 0, 0, 0, 0,\n",
       "        0, 0, 0, 0, 0, 0, 0, 0, 0, 0, 0, 0]])"
      ]
     },
     "execution_count": 444,
     "metadata": {},
     "output_type": "execute_result"
    }
   ],
   "source": [
    "text_array_count[9:10,0:100].toarray()"
   ]
  },
  {
   "cell_type": "code",
   "execution_count": 445,
   "metadata": {},
   "outputs": [],
   "source": [
    "y = text_array_count[9:10,0:100].toarray()"
   ]
  },
  {
   "cell_type": "code",
   "execution_count": 446,
   "metadata": {},
   "outputs": [
    {
     "data": {
      "text/plain": [
       "0"
      ]
     },
     "execution_count": 446,
     "metadata": {},
     "output_type": "execute_result"
    }
   ],
   "source": [
    "y[0][91]"
   ]
  },
  {
   "cell_type": "code",
   "execution_count": 447,
   "metadata": {},
   "outputs": [
    {
     "data": {
      "text/plain": [
       "[array([], dtype='<U17')]"
      ]
     },
     "execution_count": 447,
     "metadata": {},
     "output_type": "execute_result"
    }
   ],
   "source": [
    "CV.inverse_transform(y[0])"
   ]
  },
  {
   "cell_type": "markdown",
   "metadata": {},
   "source": [
    "# TF-IDF features"
   ]
  },
  {
   "cell_type": "code",
   "execution_count": 448,
   "metadata": {},
   "outputs": [],
   "source": [
    "from sklearn.feature_extraction.text import TfidfVectorizer\n",
    "tfid = TfidfVectorizer()\n",
    "tf_technique = tfid.fit_transform(text_data.Text)"
   ]
  },
  {
   "cell_type": "code",
   "execution_count": 449,
   "metadata": {},
   "outputs": [
    {
     "name": "stdout",
     "output_type": "stream",
     "text": [
      "['00', '10', '100', '11', '12', '13', '15', '15g', '15pm', '17', '18', '18th', '1928', '1947', '1948', '1949', '1971', '1973', '1979', '1980', '1986', '1995', '1998', '20', '2000', '2005', '2006', '2007', '20th', '2160', '23', '24', '25', '2mp', '30', '30s', '325', '35', '350', '375', '3o', '40', '40min', '42', '44', '45', '4s', '4ths', '50', '5020', '510', '5320', '54', '5lb', '680', '70', '70000', '700w', '70s', '80', '80s', '8125', '85', '8525', '8530', '8pm', '90', '95', '99', 'aailiyah', 'abandoned', 'abhor', 'ability', 'able', 'abound', 'about', 'above', 'abroad', 'absolute', 'absolutel', 'absolutely', 'absolutley', 'abstruse', 'abysmal', 'ac', 'academy', 'accents', 'accept', 'acceptable', 'access', 'accessable', 'accessible', 'accessing', 'accessory', 'accessoryone', 'accident', 'accidentally', 'acclaimed', 'accolades', 'accommodations']\n"
     ]
    }
   ],
   "source": [
    "print(tfid.get_feature_names()[:100])"
   ]
  },
  {
   "cell_type": "code",
   "execution_count": 450,
   "metadata": {},
   "outputs": [
    {
     "data": {
      "text/plain": [
       "array([[0., 0., 0., 0., 0.],\n",
       "       [0., 0., 0., 0., 0.],\n",
       "       [0., 0., 0., 0., 0.],\n",
       "       [0., 0., 0., 0., 0.],\n",
       "       [0., 0., 0., 0., 0.],\n",
       "       [0., 0., 0., 0., 0.],\n",
       "       [0., 0., 0., 0., 0.],\n",
       "       [0., 0., 0., 0., 0.],\n",
       "       [0., 0., 0., 0., 0.],\n",
       "       [0., 0., 0., 0., 0.]])"
      ]
     },
     "execution_count": 450,
     "metadata": {},
     "output_type": "execute_result"
    }
   ],
   "source": [
    "tf_technique[:10, :5].toarray()"
   ]
  },
  {
   "cell_type": "code",
   "execution_count": 451,
   "metadata": {},
   "outputs": [
    {
     "data": {
      "text/plain": [
       "['So there is no way for me to plug it in here in the US unless I go by a converter.']"
      ]
     },
     "execution_count": 451,
     "metadata": {},
     "output_type": "execute_result"
    }
   ],
   "source": [
    "text_array[:1]"
   ]
  },
  {
   "cell_type": "code",
   "execution_count": 452,
   "metadata": {},
   "outputs": [
    {
     "data": {
      "text/plain": [
       "array([[0, 0, 0, ..., 0, 0, 0]])"
      ]
     },
     "execution_count": 452,
     "metadata": {},
     "output_type": "execute_result"
    }
   ],
   "source": [
    "#this is array for 1st sentence -- column by words and row by frequency\n",
    "#when compare 2 sentences -- use array to compare\n",
    "\n",
    "text_array_count[:1].toarray()"
   ]
  },
  {
   "cell_type": "code",
   "execution_count": 453,
   "metadata": {},
   "outputs": [],
   "source": [
    "#Distance Similarities\n",
    "from sklearn.metrics.pairwise import cosine_similarity"
   ]
  },
  {
   "cell_type": "code",
   "execution_count": 454,
   "metadata": {},
   "outputs": [
    {
     "data": {
      "text/plain": [
       "['Very good quality though']"
      ]
     },
     "execution_count": 454,
     "metadata": {},
     "output_type": "execute_result"
    }
   ],
   "source": [
    "# -- 1st method -- cosine_similarity \n",
    "#1st sentence\n",
    "text_array[13:14]"
   ]
  },
  {
   "cell_type": "code",
   "execution_count": 455,
   "metadata": {},
   "outputs": [
    {
     "data": {
      "text/plain": [
       "['So Far So Good!.']"
      ]
     },
     "execution_count": 455,
     "metadata": {},
     "output_type": "execute_result"
    }
   ],
   "source": [
    "#2nd sentence\n",
    "text_array[17:18]"
   ]
  },
  {
   "cell_type": "code",
   "execution_count": 456,
   "metadata": {},
   "outputs": [
    {
     "data": {
      "text/plain": [
       "array([[0.20412415]])"
      ]
     },
     "execution_count": 456,
     "metadata": {},
     "output_type": "execute_result"
    }
   ],
   "source": [
    "#Compare similarity with CountVectorizer\n",
    "cosine_similarity(text_array_count[17:18].toarray(), text_array_count[13:14].toarray())"
   ]
  },
  {
   "cell_type": "code",
   "execution_count": 457,
   "metadata": {},
   "outputs": [
    {
     "data": {
      "text/plain": [
       "array([[0.1363893]])"
      ]
     },
     "execution_count": 457,
     "metadata": {},
     "output_type": "execute_result"
    }
   ],
   "source": [
    "#Compare similarity with TF-IDF features\n",
    "cosine_similarity(tf_technique[17:18].toarray(), tf_technique[13:14].toarray())"
   ]
  },
  {
   "cell_type": "code",
   "execution_count": 458,
   "metadata": {},
   "outputs": [],
   "source": [
    "# -- 2nd method pearson \n",
    "#.ravel return\n",
    "from scipy.stats import pearsonr"
   ]
  },
  {
   "cell_type": "code",
   "execution_count": 459,
   "metadata": {},
   "outputs": [],
   "source": [
    "first = text_array_count[17:18].toarray().ravel()\n",
    "second = text_array_count[13:14].toarray().ravel()\n",
    "\n",
    "result, p_value = pearsonr(first, second)"
   ]
  },
  {
   "cell_type": "code",
   "execution_count": 460,
   "metadata": {},
   "outputs": [
    {
     "data": {
      "text/plain": [
       "0.2036220615269497"
      ]
     },
     "execution_count": 460,
     "metadata": {},
     "output_type": "execute_result"
    }
   ],
   "source": [
    "#with CountVictorizer\n",
    "result"
   ]
  },
  {
   "cell_type": "code",
   "execution_count": 461,
   "metadata": {},
   "outputs": [],
   "source": [
    "first_idf = tf_technique[17:18].toarray().ravel()\n",
    "second_idf = tf_technique[13:14].toarray().ravel()\n",
    "\n",
    "result_idf, p_value = pearsonr(first_idf, second_idf)"
   ]
  },
  {
   "cell_type": "code",
   "execution_count": 462,
   "metadata": {},
   "outputs": [
    {
     "data": {
      "text/plain": [
       "0.13584800792539825"
      ]
     },
     "execution_count": 462,
     "metadata": {},
     "output_type": "execute_result"
    }
   ],
   "source": [
    "#with TF-IDF feartures\n",
    "result_idf"
   ]
  },
  {
   "cell_type": "raw",
   "metadata": {},
   "source": [
    "-- the distance similarity is different -- \n",
    "consine method with Vectorizer returns 0.20412 \n",
    "pearson method with Vectorizer returns 0.20362\n",
    "\n",
    "consine method with TF-IDF returns 0.136558\n",
    "pearson method with TF-IDF returns 0.136017\n",
    "\n",
    "-- cosine method give higher values than person --"
   ]
  },
  {
   "cell_type": "markdown",
   "metadata": {},
   "source": [
    "#  Naive Bayes classifier "
   ]
  },
  {
   "cell_type": "code",
   "execution_count": 463,
   "metadata": {},
   "outputs": [],
   "source": [
    "from sklearn.naive_bayes import MultinomialNB"
   ]
  },
  {
   "cell_type": "code",
   "execution_count": 508,
   "metadata": {},
   "outputs": [
    {
     "data": {
      "text/plain": [
       "MultinomialNB(alpha=1.0, class_prior=None, fit_prior=True)"
      ]
     },
     "execution_count": 508,
     "metadata": {},
     "output_type": "execute_result"
    }
   ],
   "source": [
    "#Naive Bayes Multinomial with CountVect\n",
    "first = text_array_count.toarray()\n",
    "second = text_data['Feedback']\n",
    "\n",
    "mnb_cv = MultinomialNB()\n",
    "mnb_cv.fit(first, second)"
   ]
  },
  {
   "cell_type": "code",
   "execution_count": 494,
   "metadata": {},
   "outputs": [
    {
     "data": {
      "text/plain": [
       "array(['1'], dtype='<U1')"
      ]
     },
     "execution_count": 494,
     "metadata": {},
     "output_type": "execute_result"
    }
   ],
   "source": [
    "mnb_cv.predict(CV.transform([\"Good case, Excellent\"]))"
   ]
  },
  {
   "cell_type": "code",
   "execution_count": 495,
   "metadata": {},
   "outputs": [
    {
     "data": {
      "text/plain": [
       "MultinomialNB(alpha=1.0, class_prior=None, fit_prior=True)"
      ]
     },
     "execution_count": 495,
     "metadata": {},
     "output_type": "execute_result"
    }
   ],
   "source": [
    "#Naive Bayes Multinomial with TF-IDF\n",
    "first_idf = tf_technique.toarray()\n",
    "second_idf = text_data['Feedback']\n",
    "\n",
    "mnb_idf = MultinomialNB()\n",
    "mnb_idf.fit(first_idf, second_idf)"
   ]
  },
  {
   "cell_type": "code",
   "execution_count": 496,
   "metadata": {},
   "outputs": [
    {
     "data": {
      "text/plain": [
       "array(['1'], dtype='<U1')"
      ]
     },
     "execution_count": 496,
     "metadata": {},
     "output_type": "execute_result"
    }
   ],
   "source": [
    "mnb_idf.predict(tfid.transform([\"Good case, Excellent\"]))"
   ]
  },
  {
   "cell_type": "markdown",
   "metadata": {},
   "source": [
    "# Comparison between real data & prediction -- TF-IDF"
   ]
  },
  {
   "cell_type": "code",
   "execution_count": 468,
   "metadata": {},
   "outputs": [
    {
     "data": {
      "text/plain": [
       "array(['So there is no way for me to plug it in here in the US unless I go by a converter.\\t0\\n',\n",
       "       'Good case, Excellent value.\\t1\\n', 'Great for the jawbone.\\t1\\n',\n",
       "       ..., 'Overall I was not impressed and would not go back.\\t0\\n',\n",
       "       \"The whole experience was underwhelming, and I think we'll just go to Ninja Sushi next time.\\t0\\n\",\n",
       "       \"Then, as if I hadn't wasted enough of my life there, they poured salt in the wound by drawing out the time it took to bring the check.\\t0\\n\"],\n",
       "      dtype='<U482')"
      ]
     },
     "execution_count": 468,
     "metadata": {},
     "output_type": "execute_result"
    }
   ],
   "source": [
    "text"
   ]
  },
  {
   "cell_type": "code",
   "execution_count": 469,
   "metadata": {},
   "outputs": [],
   "source": [
    "text_data_for_prediction = pd.DataFrame(data = text_)\n",
    "text_data_for_prediction.drop_duplicates(keep=False, inplace=True)"
   ]
  },
  {
   "cell_type": "code",
   "execution_count": 470,
   "metadata": {},
   "outputs": [
    {
     "data": {
      "text/html": [
       "<div>\n",
       "<style scoped>\n",
       "    .dataframe tbody tr th:only-of-type {\n",
       "        vertical-align: middle;\n",
       "    }\n",
       "\n",
       "    .dataframe tbody tr th {\n",
       "        vertical-align: top;\n",
       "    }\n",
       "\n",
       "    .dataframe thead th {\n",
       "        text-align: right;\n",
       "    }\n",
       "</style>\n",
       "<table border=\"1\" class=\"dataframe\">\n",
       "  <thead>\n",
       "    <tr style=\"text-align: right;\">\n",
       "      <th></th>\n",
       "      <th>Text</th>\n",
       "      <th>Feedback</th>\n",
       "      <th>Company</th>\n",
       "    </tr>\n",
       "  </thead>\n",
       "  <tbody>\n",
       "    <tr>\n",
       "      <th>0</th>\n",
       "      <td>So there is no way for me to plug it in here i...</td>\n",
       "      <td>0</td>\n",
       "      <td>amazon</td>\n",
       "    </tr>\n",
       "    <tr>\n",
       "      <th>1</th>\n",
       "      <td>Good case, Excellent value.</td>\n",
       "      <td>1</td>\n",
       "      <td>amazon</td>\n",
       "    </tr>\n",
       "    <tr>\n",
       "      <th>2</th>\n",
       "      <td>Great for the jawbone.</td>\n",
       "      <td>1</td>\n",
       "      <td>amazon</td>\n",
       "    </tr>\n",
       "    <tr>\n",
       "      <th>3</th>\n",
       "      <td>Tied to charger for conversations lasting more...</td>\n",
       "      <td>0</td>\n",
       "      <td>amazon</td>\n",
       "    </tr>\n",
       "    <tr>\n",
       "      <th>4</th>\n",
       "      <td>The mic is great.</td>\n",
       "      <td>1</td>\n",
       "      <td>amazon</td>\n",
       "    </tr>\n",
       "    <tr>\n",
       "      <th>5</th>\n",
       "      <td>I have to jiggle the plug to get it to line up...</td>\n",
       "      <td>0</td>\n",
       "      <td>amazon</td>\n",
       "    </tr>\n",
       "    <tr>\n",
       "      <th>6</th>\n",
       "      <td>If you have several dozen or several hundred c...</td>\n",
       "      <td>0</td>\n",
       "      <td>amazon</td>\n",
       "    </tr>\n",
       "    <tr>\n",
       "      <th>7</th>\n",
       "      <td>If you are Razr owner...you must have this!</td>\n",
       "      <td>1</td>\n",
       "      <td>amazon</td>\n",
       "    </tr>\n",
       "    <tr>\n",
       "      <th>8</th>\n",
       "      <td>Needless to say, I wasted my money.</td>\n",
       "      <td>0</td>\n",
       "      <td>amazon</td>\n",
       "    </tr>\n",
       "    <tr>\n",
       "      <th>9</th>\n",
       "      <td>What a waste of money and time!.</td>\n",
       "      <td>0</td>\n",
       "      <td>amazon</td>\n",
       "    </tr>\n",
       "  </tbody>\n",
       "</table>\n",
       "</div>"
      ],
      "text/plain": [
       "                                                Text Feedback Company\n",
       "0  So there is no way for me to plug it in here i...        0  amazon\n",
       "1                        Good case, Excellent value.        1  amazon\n",
       "2                             Great for the jawbone.        1  amazon\n",
       "3  Tied to charger for conversations lasting more...        0  amazon\n",
       "4                                  The mic is great.        1  amazon\n",
       "5  I have to jiggle the plug to get it to line up...        0  amazon\n",
       "6  If you have several dozen or several hundred c...        0  amazon\n",
       "7        If you are Razr owner...you must have this!        1  amazon\n",
       "8                Needless to say, I wasted my money.        0  amazon\n",
       "9                   What a waste of money and time!.        0  amazon"
      ]
     },
     "execution_count": 470,
     "metadata": {},
     "output_type": "execute_result"
    }
   ],
   "source": [
    "text_data_for_prediction[:10]"
   ]
  },
  {
   "cell_type": "code",
   "execution_count": 471,
   "metadata": {},
   "outputs": [
    {
     "data": {
      "text/plain": [
       "2966"
      ]
     },
     "execution_count": 471,
     "metadata": {},
     "output_type": "execute_result"
    }
   ],
   "source": [
    "len(text_data_for_prediction)"
   ]
  },
  {
   "cell_type": "code",
   "execution_count": 598,
   "metadata": {},
   "outputs": [
    {
     "name": "stdout",
     "output_type": "stream",
     "text": [
      "['0', '1', '1', '0', '1', '0', '0', '1', '0', '0']\n"
     ]
    }
   ],
   "source": [
    "#comparison with TF-IDF data\n",
    "\n",
    "prediction_array = []\n",
    "\n",
    "for n in text_data_for_prediction.Text:\n",
    "    #print(n.__class__)\n",
    "    prediction1 = mnb_idf.predict(tfid.transform([n]))\n",
    "    prediction2 = prediction1[0]\n",
    "    prediction_array += [prediction2]\n",
    "                         \n",
    "print(prediction_array[:10])"
   ]
  },
  {
   "cell_type": "code",
   "execution_count": 498,
   "metadata": {},
   "outputs": [],
   "source": [
    "text_data_for_prediction[\"Prediction\"] = prediction_array"
   ]
  },
  {
   "cell_type": "code",
   "execution_count": 499,
   "metadata": {},
   "outputs": [
    {
     "data": {
      "text/html": [
       "<div>\n",
       "<style scoped>\n",
       "    .dataframe tbody tr th:only-of-type {\n",
       "        vertical-align: middle;\n",
       "    }\n",
       "\n",
       "    .dataframe tbody tr th {\n",
       "        vertical-align: top;\n",
       "    }\n",
       "\n",
       "    .dataframe thead th {\n",
       "        text-align: right;\n",
       "    }\n",
       "</style>\n",
       "<table border=\"1\" class=\"dataframe\">\n",
       "  <thead>\n",
       "    <tr style=\"text-align: right;\">\n",
       "      <th></th>\n",
       "      <th>Text</th>\n",
       "      <th>Feedback</th>\n",
       "      <th>Company</th>\n",
       "      <th>Prediction</th>\n",
       "      <th>Compare</th>\n",
       "    </tr>\n",
       "  </thead>\n",
       "  <tbody>\n",
       "    <tr>\n",
       "      <th>0</th>\n",
       "      <td>So there is no way for me to plug it in here i...</td>\n",
       "      <td>0</td>\n",
       "      <td>amazon</td>\n",
       "      <td>0</td>\n",
       "      <td>1</td>\n",
       "    </tr>\n",
       "    <tr>\n",
       "      <th>1</th>\n",
       "      <td>Good case, Excellent value.</td>\n",
       "      <td>1</td>\n",
       "      <td>amazon</td>\n",
       "      <td>1</td>\n",
       "      <td>1</td>\n",
       "    </tr>\n",
       "    <tr>\n",
       "      <th>2</th>\n",
       "      <td>Great for the jawbone.</td>\n",
       "      <td>1</td>\n",
       "      <td>amazon</td>\n",
       "      <td>1</td>\n",
       "      <td>1</td>\n",
       "    </tr>\n",
       "    <tr>\n",
       "      <th>3</th>\n",
       "      <td>Tied to charger for conversations lasting more...</td>\n",
       "      <td>0</td>\n",
       "      <td>amazon</td>\n",
       "      <td>0</td>\n",
       "      <td>1</td>\n",
       "    </tr>\n",
       "    <tr>\n",
       "      <th>4</th>\n",
       "      <td>The mic is great.</td>\n",
       "      <td>1</td>\n",
       "      <td>amazon</td>\n",
       "      <td>1</td>\n",
       "      <td>1</td>\n",
       "    </tr>\n",
       "    <tr>\n",
       "      <th>5</th>\n",
       "      <td>I have to jiggle the plug to get it to line up...</td>\n",
       "      <td>0</td>\n",
       "      <td>amazon</td>\n",
       "      <td>0</td>\n",
       "      <td>1</td>\n",
       "    </tr>\n",
       "    <tr>\n",
       "      <th>6</th>\n",
       "      <td>If you have several dozen or several hundred c...</td>\n",
       "      <td>0</td>\n",
       "      <td>amazon</td>\n",
       "      <td>0</td>\n",
       "      <td>1</td>\n",
       "    </tr>\n",
       "    <tr>\n",
       "      <th>7</th>\n",
       "      <td>If you are Razr owner...you must have this!</td>\n",
       "      <td>1</td>\n",
       "      <td>amazon</td>\n",
       "      <td>1</td>\n",
       "      <td>1</td>\n",
       "    </tr>\n",
       "    <tr>\n",
       "      <th>8</th>\n",
       "      <td>Needless to say, I wasted my money.</td>\n",
       "      <td>0</td>\n",
       "      <td>amazon</td>\n",
       "      <td>0</td>\n",
       "      <td>1</td>\n",
       "    </tr>\n",
       "    <tr>\n",
       "      <th>9</th>\n",
       "      <td>What a waste of money and time!.</td>\n",
       "      <td>0</td>\n",
       "      <td>amazon</td>\n",
       "      <td>0</td>\n",
       "      <td>1</td>\n",
       "    </tr>\n",
       "  </tbody>\n",
       "</table>\n",
       "</div>"
      ],
      "text/plain": [
       "                                                Text Feedback Company  \\\n",
       "0  So there is no way for me to plug it in here i...        0  amazon   \n",
       "1                        Good case, Excellent value.        1  amazon   \n",
       "2                             Great for the jawbone.        1  amazon   \n",
       "3  Tied to charger for conversations lasting more...        0  amazon   \n",
       "4                                  The mic is great.        1  amazon   \n",
       "5  I have to jiggle the plug to get it to line up...        0  amazon   \n",
       "6  If you have several dozen or several hundred c...        0  amazon   \n",
       "7        If you are Razr owner...you must have this!        1  amazon   \n",
       "8                Needless to say, I wasted my money.        0  amazon   \n",
       "9                   What a waste of money and time!.        0  amazon   \n",
       "\n",
       "  Prediction  Compare  \n",
       "0          0        1  \n",
       "1          1        1  \n",
       "2          1        1  \n",
       "3          0        1  \n",
       "4          1        1  \n",
       "5          0        1  \n",
       "6          0        1  \n",
       "7          1        1  \n",
       "8          0        1  \n",
       "9          0        1  "
      ]
     },
     "execution_count": 499,
     "metadata": {},
     "output_type": "execute_result"
    }
   ],
   "source": [
    "text_data_for_prediction[:10]"
   ]
  },
  {
   "cell_type": "code",
   "execution_count": 500,
   "metadata": {},
   "outputs": [],
   "source": [
    "compare_array = []\n",
    "\n",
    "for index, row in text_data_for_prediction.iterrows():\n",
    "    if row['Feedback'] == row['Prediction']:\n",
    "        compare_array += [1] #1 means the prediction is CORRECT\n",
    "    else:\n",
    "        compare_array += [0] #0 means the prediction is WRONG"
   ]
  },
  {
   "cell_type": "code",
   "execution_count": 501,
   "metadata": {},
   "outputs": [],
   "source": [
    "text_data_for_prediction[\"Compare\"] = compare_array"
   ]
  },
  {
   "cell_type": "code",
   "execution_count": 502,
   "metadata": {},
   "outputs": [
    {
     "data": {
      "text/html": [
       "<div>\n",
       "<style scoped>\n",
       "    .dataframe tbody tr th:only-of-type {\n",
       "        vertical-align: middle;\n",
       "    }\n",
       "\n",
       "    .dataframe tbody tr th {\n",
       "        vertical-align: top;\n",
       "    }\n",
       "\n",
       "    .dataframe thead th {\n",
       "        text-align: right;\n",
       "    }\n",
       "</style>\n",
       "<table border=\"1\" class=\"dataframe\">\n",
       "  <thead>\n",
       "    <tr style=\"text-align: right;\">\n",
       "      <th></th>\n",
       "      <th>Text</th>\n",
       "      <th>Feedback</th>\n",
       "      <th>Company</th>\n",
       "      <th>Prediction</th>\n",
       "      <th>Compare</th>\n",
       "    </tr>\n",
       "  </thead>\n",
       "  <tbody>\n",
       "    <tr>\n",
       "      <th>0</th>\n",
       "      <td>So there is no way for me to plug it in here i...</td>\n",
       "      <td>0</td>\n",
       "      <td>amazon</td>\n",
       "      <td>0</td>\n",
       "      <td>1</td>\n",
       "    </tr>\n",
       "    <tr>\n",
       "      <th>1</th>\n",
       "      <td>Good case, Excellent value.</td>\n",
       "      <td>1</td>\n",
       "      <td>amazon</td>\n",
       "      <td>1</td>\n",
       "      <td>1</td>\n",
       "    </tr>\n",
       "    <tr>\n",
       "      <th>2</th>\n",
       "      <td>Great for the jawbone.</td>\n",
       "      <td>1</td>\n",
       "      <td>amazon</td>\n",
       "      <td>1</td>\n",
       "      <td>1</td>\n",
       "    </tr>\n",
       "    <tr>\n",
       "      <th>3</th>\n",
       "      <td>Tied to charger for conversations lasting more...</td>\n",
       "      <td>0</td>\n",
       "      <td>amazon</td>\n",
       "      <td>0</td>\n",
       "      <td>1</td>\n",
       "    </tr>\n",
       "    <tr>\n",
       "      <th>4</th>\n",
       "      <td>The mic is great.</td>\n",
       "      <td>1</td>\n",
       "      <td>amazon</td>\n",
       "      <td>1</td>\n",
       "      <td>1</td>\n",
       "    </tr>\n",
       "    <tr>\n",
       "      <th>5</th>\n",
       "      <td>I have to jiggle the plug to get it to line up...</td>\n",
       "      <td>0</td>\n",
       "      <td>amazon</td>\n",
       "      <td>0</td>\n",
       "      <td>1</td>\n",
       "    </tr>\n",
       "    <tr>\n",
       "      <th>6</th>\n",
       "      <td>If you have several dozen or several hundred c...</td>\n",
       "      <td>0</td>\n",
       "      <td>amazon</td>\n",
       "      <td>0</td>\n",
       "      <td>1</td>\n",
       "    </tr>\n",
       "    <tr>\n",
       "      <th>7</th>\n",
       "      <td>If you are Razr owner...you must have this!</td>\n",
       "      <td>1</td>\n",
       "      <td>amazon</td>\n",
       "      <td>1</td>\n",
       "      <td>1</td>\n",
       "    </tr>\n",
       "    <tr>\n",
       "      <th>8</th>\n",
       "      <td>Needless to say, I wasted my money.</td>\n",
       "      <td>0</td>\n",
       "      <td>amazon</td>\n",
       "      <td>0</td>\n",
       "      <td>1</td>\n",
       "    </tr>\n",
       "    <tr>\n",
       "      <th>9</th>\n",
       "      <td>What a waste of money and time!.</td>\n",
       "      <td>0</td>\n",
       "      <td>amazon</td>\n",
       "      <td>0</td>\n",
       "      <td>1</td>\n",
       "    </tr>\n",
       "  </tbody>\n",
       "</table>\n",
       "</div>"
      ],
      "text/plain": [
       "                                                Text Feedback Company  \\\n",
       "0  So there is no way for me to plug it in here i...        0  amazon   \n",
       "1                        Good case, Excellent value.        1  amazon   \n",
       "2                             Great for the jawbone.        1  amazon   \n",
       "3  Tied to charger for conversations lasting more...        0  amazon   \n",
       "4                                  The mic is great.        1  amazon   \n",
       "5  I have to jiggle the plug to get it to line up...        0  amazon   \n",
       "6  If you have several dozen or several hundred c...        0  amazon   \n",
       "7        If you are Razr owner...you must have this!        1  amazon   \n",
       "8                Needless to say, I wasted my money.        0  amazon   \n",
       "9                   What a waste of money and time!.        0  amazon   \n",
       "\n",
       "  Prediction  Compare  \n",
       "0          0        1  \n",
       "1          1        1  \n",
       "2          1        1  \n",
       "3          0        1  \n",
       "4          1        1  \n",
       "5          0        1  \n",
       "6          0        1  \n",
       "7          1        1  \n",
       "8          0        1  \n",
       "9          0        1  "
      ]
     },
     "execution_count": 502,
     "metadata": {},
     "output_type": "execute_result"
    }
   ],
   "source": [
    "text_data_for_prediction[:10]"
   ]
  },
  {
   "cell_type": "code",
   "execution_count": 503,
   "metadata": {},
   "outputs": [
    {
     "name": "stdout",
     "output_type": "stream",
     "text": [
      "2826\n"
     ]
    }
   ],
   "source": [
    "Total_compare = text_data_for_prediction['Compare'].sum()\n",
    "print (Total_compare)"
   ]
  },
  {
   "cell_type": "code",
   "execution_count": 504,
   "metadata": {},
   "outputs": [
    {
     "name": "stdout",
     "output_type": "stream",
     "text": [
      "good protection and does not make phone too bulky.\n",
      "Not a good bargain.\n",
      "Will order from them again!\n",
      "I've only had my bluetooth for a few weeks, but I really like it.\n",
      "It is so small and you don't even realize that it is there after a while of getting used to it.\n",
      "I was not happy with this item.\n",
      "I've had this bluetoooth headset for some time now and still not comfortable with the way it fits on the ear.\n",
      "I usually don't like headbands but this one is very lightweight & doesn't mess up my hair.\n",
      "I have had this phone for over a year now, and I will tell you, its not that great.\n",
      "It defeats the purpose of a bluetooth headset.\n",
      "Phone now holds charge like it did when it was new.\n",
      "I was able to do voice dialing in the car with no problem.\n",
      "Was not happy.\n",
      "Excellent starter wireless headset.\n",
      "The loudspeaker option is great, the bumpers with the lights is very ... appealing.\n",
      "But it does get better reception and clarity than any phone I've had before.\n",
      "Its not user friendly.\n",
      "Keep up the good work Amazon!!\n",
      "No shifting, no bubbling, no peeling, not even a scratch, NOTHING!I couldn't be more happier with my new one for the Droid.\n",
      "Its a total package.\n",
      "The battery life is highly unacceptable.\n",
      "It does everything the description said it would.\n",
      "Due to this happening on every call I was forced to stop using this headset.\n",
      "clipping this to your belt will deffinitely make you feel like 50 cent's up-and-coming.\n",
      "Steer clear of this product and go with the genuine Palm replacementr pens, which come in a three-pack.\n",
      "Very Dissapointing Performance.\n",
      "I did not have any problem with this item and would order it again if needed.\n",
      "They do not last forever, but is not overly expensive to replace.Easy to operate and the sound is much better than others I have tried.\n",
      "Does everything it should and more.\n",
      "Just what I wanted.\n",
      "I really wanted the Plantronics 510 to be the right one, but it has too many issues for me.The good\n",
      "The internet access was fine, it the rare instance that it worked.\n",
      "A good quality bargain.. I bought this after I bought a cheapy from Big Lots that sounded awful and people on the other end couldn't hear me.\n",
      "Battery charge-life is quite long.\n",
      "Gets a signal when other Verizon phones won't.\n",
      "Plan on ordering from them again and again.\n",
      "They keep getting better and better (this is my third one and I've had numerous Palms too).\n",
      "Not good enough for the price.\n",
      "I have read other's reviews here but I haven't had any problem with it.\n",
      "Everything about this product is wrong.First\n",
      "The pairing of the two devices was so easy it barely took a couple minutes before I started making calls with the voice dialing feature.\n",
      "I can hear while I'm driving in the car, and usually don't even have to put it on it's loudest setting.\n",
      "So I bought about 10 of these and saved alot of money.\n",
      "much better than the hard plastic cases.\n",
      "Makes it easier to keep up with my bluetooth when I'm not wearing it.\n",
      "You get extra minutes so that you can carry out the call and not get cut off.\"\n",
      "I had to purchase a different case.\n",
      "How can anyone in their right mind ask for anything more from a movie than this?  \n",
      "Graphics is far from the best part of the game.  \n",
      "Waste your money on this game.  \n",
      "This is the kind of money that is wasted properly.  \n",
      "But it's just not funny.  \n",
      "If there was ever a movie that needed word-of-mouth to promote, this is it.  \n",
      "Give this one a look.  \n",
      "I don't think you will be disappointed.  \n",
      "Some applause should be given to the \"prelude\" however.  \n",
      "Still, I do like this movie for it's empowerment of women; there's not enough movies out there like this one.  \n",
      "This film has no redeeming features.  \n",
      "Highly unrecommended.  \n",
      "There are the usual Hitchcock logic flaws.  \n",
      "***SPOILERS*** Whatever else can (or can't) be said about it, SURFACE is superbly crafted.  \n",
      "And there wasn't a single sour note struck acting-wise, either; some surprisingly solid casting, here.  \n",
      "Three of the most visually appealing movies i've ever seen.  \n",
      "I will never forget it now.  \n",
      "Now you know why I gave it a 10+!  \n",
      "Not too screamy not to masculine but just right.  \n",
      "I would have casted her in that role after ready the script.  \n",
      "The soundtrack wasn't terrible, either.  \n",
      "The last 15 minutes of movie are also not bad as well.  \n",
      "I won't say any more - I don't like spoilers, so I don't want to be one, but I believe this film is worth your time.  \n",
      "Lifetime does not air it enough, so if anyone knows what store sells it let me know because this is a must-have.  \n",
      "But this movie really got to me.  \n",
      "Full of unconvincing cardboard characters it is blandly written by Edward Chodorov, who also produced, and is surprisingly directed by Jean Negulesco from whom one would expect a great deal more.  \n",
      "Easily, none other cartoon made me laugh in a tender way (before getting into dark sitcoms oriented for teenagers).  \n",
      "The characters are interesting and you want to find out more about them the longer the movie goes on, and I think people will be surprised by who does and doesn't make it.  \n",
      "There's barely a boring moment in the film and there are plenty of humorous parts.  \n",
      "I advise you to look out for it.  \n",
      "This scene is very strong and unpleasant.  \n",
      "Predictable, but not a bad watch.  \n",
      "I struggle to find anything bad to say about it.  \n",
      "It has everything you could want... suspense, drama, comedy, confusing subplots, native americans, brain eating... If you're looking for the be-all, end-all of brainsucking movies, look no further.  \n",
      "A film not easily forgotten.  \n",
      "The characters are interesting, even if a bit predictable.  \n",
      "Not much dialogue, not much music, the whole film was shot as elaborately and aesthetically like a sculpture.  \n",
      "Not easy to watch.  \n",
      "The movie is not completely perfect but 'Titta Di Girolamo' will stay with you for a long time after the vision of the movie.  \n",
      "However, after finally watching this film, I realized that not only had I had a closed mind to the brilliance it depicts, I also found myself watching it over and over again.  \n",
      "It's the one movie that never ceases to interest me, simply because it keeps me alert, as I try to attempt to decipher it's meanings.  \n",
      "Enough can not be said of the remarkable animation in this film.  \n",
      "I keep watching it over and over.  \n",
      "If you have not seen this movie, I definitely recommend it!  \n",
      "He came running after us when he realized my husband had left his sunglasses on the table.\n",
      "We'd definitely go back here again.\n",
      "The deal included 5 tastings and 2 drinks, and Jeff went above and beyond what we expected.\n",
      "The scallop dish is quite appalling for value as well.\n",
      "Will be back again!\n",
      "The only good thing was our waiter, he was very helpful and kept the bloddy mary's coming.\n",
      "Will go back next trip out.\n",
      "I've had better atmosphere.\n",
      "I give it 2 thumbs down\n",
      "When my order arrived, one of the gyros was missing.\n",
      "It is worth the drive.\n",
      "Must have been an off night at this place.\n",
      "Which are small and not worth the price.\n",
      "They know how to make them here.\n",
      "You cant go wrong with any of the food here.\n",
      "The goat taco didn't skimp on the meat and wow what FLAVOR!\n",
      "I went to Bachi Burger on a friend's recommendation and was not disappointed.\n",
      "I did not expect this to be so good!\n",
      "And considering the two of us left there very full and happy for about $20, you just can't go wrong.\n",
      "You won't be disappointed.\n",
      "I go to far too many places and I've never seen any restaurant that serves a 1 egg breakfast, especially for $4.00.\n",
      "Today was my first taste of a Buldogis Gourmet Hot Dog and I have to tell you it was more than I ever thought possible.\n",
      "I'll definitely be in soon again.\n",
      "I don't know what kind it is but they have the best iced tea.\n",
      "I can assure you that you won't be disappointed.\n",
      "No complaints!\n",
      "definitely will come back here again.\n",
      "If you're not familiar, check it out.\n",
      "This was my first and only Vegas buffet and it did not disappoint.\n",
      "The selection of food was not the best.\n",
      "I will be back many times soon.\n",
      "Point your finger at any item on the menu, order it and you won't be disappointed.\n",
      "If you haven't gone here GO NOW!\n",
      "This was my first time and I can't wait until the next.\n",
      "We made the drive all the way from North Scottsdale... and I was not one bit disappointed!\n",
      "I can't wait to go back.\n",
      "I gave it 5 stars then, and I'm giving it 5 stars now.\n",
      "will definitely be back!\n",
      "Never had anything to complain about here.\n",
      "One of the few places in Phoenix that I would definately go back to again .\n",
      "The service here is fair at best.\n",
      "I do love sushi, but I found Kabuki to be over-priced, over-hip and under-services.\n",
      "Some may say this buffet is pricey but I think you get what you pay for and this place you are getting quite a lot!\n",
      "Talk about great customer service of course we will be back.\n",
      "Now the burgers aren't as good, the pizza which used to be amazing is doughy and flavorless.\n",
      "If you stay in Vegas you must get breakfast here at least once.\n",
      "Also, I feel like the chips are bought, not made in house.\n",
      "The tables outside are also dirty a lot of the time and the workers are not always friendly and helpful with the menu.\n",
      "We've have gotten a much better service from the pizza place next door than the services we received from this restaurant.\n"
     ]
    }
   ],
   "source": [
    "#the sentence that the prediction is WRONG\n",
    "\n",
    "for index, row in text_data_for_prediction.iterrows():\n",
    "    if row.Compare == 0:\n",
    "        print (row.Text)"
   ]
  },
  {
   "cell_type": "raw",
   "metadata": {},
   "source": [
    "+++ Comparision with TF-IDF data+++\n",
    "\n",
    "The total sentences are 2966\n",
    "The right predicted sentences are 2826\n",
    "The percentage of prediction accuracy is 95.38%"
   ]
  },
  {
   "cell_type": "markdown",
   "metadata": {},
   "source": [
    "# Comparison between real data & prediction -- CountVectorizer"
   ]
  },
  {
   "cell_type": "code",
   "execution_count": 509,
   "metadata": {},
   "outputs": [],
   "source": [
    "text_data_for_prediction_cv = pd.DataFrame(data = text_)\n",
    "text_data_for_prediction_cv.drop_duplicates(keep=False, inplace=True)"
   ]
  },
  {
   "cell_type": "code",
   "execution_count": 510,
   "metadata": {},
   "outputs": [
    {
     "data": {
      "text/plain": [
       "2966"
      ]
     },
     "execution_count": 510,
     "metadata": {},
     "output_type": "execute_result"
    }
   ],
   "source": [
    "len(text_data_for_prediction_cv)"
   ]
  },
  {
   "cell_type": "code",
   "execution_count": 597,
   "metadata": {},
   "outputs": [
    {
     "name": "stdout",
     "output_type": "stream",
     "text": [
      "['0', '1', '1', '0', '1', '0', '0', '1', '0', '0']\n"
     ]
    }
   ],
   "source": [
    "#comparison with Countvitorizer data\n",
    "prediction_array_cv = []\n",
    "\n",
    "for n in text_data_for_prediction_cv.Text:\n",
    "    #print(n.__class__)\n",
    "    prediction3 = mnb_cv.predict(CV.transform([n]))\n",
    "    prediction4 = prediction3[0]\n",
    "    prediction_array_cv += [prediction4]\n",
    "                         \n",
    "print(prediction_array_cv[:10])"
   ]
  },
  {
   "cell_type": "code",
   "execution_count": 513,
   "metadata": {},
   "outputs": [],
   "source": [
    "text_data_for_prediction_cv[\"Prediction_CV\"] = prediction_array_cv"
   ]
  },
  {
   "cell_type": "code",
   "execution_count": 514,
   "metadata": {},
   "outputs": [],
   "source": [
    "compare_array_cv = []\n",
    "\n",
    "for index, row in text_data_for_prediction_cv.iterrows():\n",
    "    if row['Feedback'] == row['Prediction_CV']:\n",
    "        compare_array_cv += [1] #1 means the prediction is CORRECT\n",
    "    else:\n",
    "        compare_array_cv += [0] #0 means the prediction is WRONG"
   ]
  },
  {
   "cell_type": "code",
   "execution_count": 515,
   "metadata": {},
   "outputs": [],
   "source": [
    "text_data_for_prediction_cv[\"Compare_CV\"] = compare_array_cv"
   ]
  },
  {
   "cell_type": "code",
   "execution_count": 516,
   "metadata": {},
   "outputs": [
    {
     "data": {
      "text/html": [
       "<div>\n",
       "<style scoped>\n",
       "    .dataframe tbody tr th:only-of-type {\n",
       "        vertical-align: middle;\n",
       "    }\n",
       "\n",
       "    .dataframe tbody tr th {\n",
       "        vertical-align: top;\n",
       "    }\n",
       "\n",
       "    .dataframe thead th {\n",
       "        text-align: right;\n",
       "    }\n",
       "</style>\n",
       "<table border=\"1\" class=\"dataframe\">\n",
       "  <thead>\n",
       "    <tr style=\"text-align: right;\">\n",
       "      <th></th>\n",
       "      <th>Text</th>\n",
       "      <th>Feedback</th>\n",
       "      <th>Company</th>\n",
       "      <th>Prediction_CV</th>\n",
       "      <th>Compare_CV</th>\n",
       "    </tr>\n",
       "  </thead>\n",
       "  <tbody>\n",
       "    <tr>\n",
       "      <th>0</th>\n",
       "      <td>So there is no way for me to plug it in here i...</td>\n",
       "      <td>0</td>\n",
       "      <td>amazon</td>\n",
       "      <td>0</td>\n",
       "      <td>1</td>\n",
       "    </tr>\n",
       "    <tr>\n",
       "      <th>1</th>\n",
       "      <td>Good case, Excellent value.</td>\n",
       "      <td>1</td>\n",
       "      <td>amazon</td>\n",
       "      <td>1</td>\n",
       "      <td>1</td>\n",
       "    </tr>\n",
       "    <tr>\n",
       "      <th>2</th>\n",
       "      <td>Great for the jawbone.</td>\n",
       "      <td>1</td>\n",
       "      <td>amazon</td>\n",
       "      <td>1</td>\n",
       "      <td>1</td>\n",
       "    </tr>\n",
       "    <tr>\n",
       "      <th>3</th>\n",
       "      <td>Tied to charger for conversations lasting more...</td>\n",
       "      <td>0</td>\n",
       "      <td>amazon</td>\n",
       "      <td>0</td>\n",
       "      <td>1</td>\n",
       "    </tr>\n",
       "    <tr>\n",
       "      <th>4</th>\n",
       "      <td>The mic is great.</td>\n",
       "      <td>1</td>\n",
       "      <td>amazon</td>\n",
       "      <td>1</td>\n",
       "      <td>1</td>\n",
       "    </tr>\n",
       "    <tr>\n",
       "      <th>5</th>\n",
       "      <td>I have to jiggle the plug to get it to line up...</td>\n",
       "      <td>0</td>\n",
       "      <td>amazon</td>\n",
       "      <td>0</td>\n",
       "      <td>1</td>\n",
       "    </tr>\n",
       "    <tr>\n",
       "      <th>6</th>\n",
       "      <td>If you have several dozen or several hundred c...</td>\n",
       "      <td>0</td>\n",
       "      <td>amazon</td>\n",
       "      <td>0</td>\n",
       "      <td>1</td>\n",
       "    </tr>\n",
       "    <tr>\n",
       "      <th>7</th>\n",
       "      <td>If you are Razr owner...you must have this!</td>\n",
       "      <td>1</td>\n",
       "      <td>amazon</td>\n",
       "      <td>1</td>\n",
       "      <td>1</td>\n",
       "    </tr>\n",
       "    <tr>\n",
       "      <th>8</th>\n",
       "      <td>Needless to say, I wasted my money.</td>\n",
       "      <td>0</td>\n",
       "      <td>amazon</td>\n",
       "      <td>0</td>\n",
       "      <td>1</td>\n",
       "    </tr>\n",
       "    <tr>\n",
       "      <th>9</th>\n",
       "      <td>What a waste of money and time!.</td>\n",
       "      <td>0</td>\n",
       "      <td>amazon</td>\n",
       "      <td>0</td>\n",
       "      <td>1</td>\n",
       "    </tr>\n",
       "  </tbody>\n",
       "</table>\n",
       "</div>"
      ],
      "text/plain": [
       "                                                Text Feedback Company  \\\n",
       "0  So there is no way for me to plug it in here i...        0  amazon   \n",
       "1                        Good case, Excellent value.        1  amazon   \n",
       "2                             Great for the jawbone.        1  amazon   \n",
       "3  Tied to charger for conversations lasting more...        0  amazon   \n",
       "4                                  The mic is great.        1  amazon   \n",
       "5  I have to jiggle the plug to get it to line up...        0  amazon   \n",
       "6  If you have several dozen or several hundred c...        0  amazon   \n",
       "7        If you are Razr owner...you must have this!        1  amazon   \n",
       "8                Needless to say, I wasted my money.        0  amazon   \n",
       "9                   What a waste of money and time!.        0  amazon   \n",
       "\n",
       "  Prediction_CV  Compare_CV  \n",
       "0             0           1  \n",
       "1             1           1  \n",
       "2             1           1  \n",
       "3             0           1  \n",
       "4             1           1  \n",
       "5             0           1  \n",
       "6             0           1  \n",
       "7             1           1  \n",
       "8             0           1  \n",
       "9             0           1  "
      ]
     },
     "execution_count": 516,
     "metadata": {},
     "output_type": "execute_result"
    }
   ],
   "source": [
    "text_data_for_prediction_cv[:10]"
   ]
  },
  {
   "cell_type": "code",
   "execution_count": 517,
   "metadata": {},
   "outputs": [
    {
     "name": "stdout",
     "output_type": "stream",
     "text": [
      "2803\n"
     ]
    }
   ],
   "source": [
    "Total_compare_cv = text_data_for_prediction_cv['Compare_CV'].sum()\n",
    "print (Total_compare_cv)"
   ]
  },
  {
   "cell_type": "code",
   "execution_count": 596,
   "metadata": {},
   "outputs": [
    {
     "name": "stdout",
     "output_type": "stream",
     "text": [
      "good protection and does not make phone too bulky.\n",
      "Not a good bargain.\n",
      "Will order from them again!\n",
      "I've only had my bluetooth for a few weeks, but I really like it.\n",
      "It is so small and you don't even realize that it is there after a while of getting used to it.\n",
      "I was not happy with this item.\n",
      "I've had this bluetoooth headset for some time now and still not comfortable with the way it fits on the ear.\n",
      "I usually don't like headbands but this one is very lightweight & doesn't mess up my hair.\n",
      "I have had this phone for over a year now, and I will tell you, its not that great.\n",
      "It defeats the purpose of a bluetooth headset.\n",
      "First of all, it doesn't wear well.\n",
      "Phone now holds charge like it did when it was new.\n",
      "I was able to do voice dialing in the car with no problem.\n",
      "Was not happy.\n",
      "Excellent starter wireless headset.\n",
      "The loudspeaker option is great, the bumpers with the lights is very ... appealing.\n",
      "Better than you'd expect.\n",
      "Oh and I forgot to also mention the weird color effect it has on your phone.\n",
      "But it does get better reception and clarity than any phone I've had before.\n",
      "We would recommend these to others.\n",
      "The delivery was on time.\n",
      "You won't regret it!\n",
      "Keep up the good work Amazon!!\n",
      "No shifting, no bubbling, no peeling, not even a scratch, NOTHING!I couldn't be more happier with my new one for the Droid.\n",
      "Its a total package.\n",
      "If you are looking for a good quality Motorola Headset keep looking, this isn't it.\n",
      "The battery life is highly unacceptable.\n",
      "It does everything the description said it would.\n",
      "Better than expected.\n",
      "Steer clear of this product and go with the genuine Palm replacementr pens, which come in a three-pack.\n",
      "Very Dissapointing Performance.\n",
      "I did not have any problem with this item and would order it again if needed.\n",
      "im surprised this is a good quality car charger and there's not much reviews about it.\n",
      "Does everything it should and more.\n",
      "Comfortable fit - you need your headset to be comfortable for at least an hour at a time, if not for an entire day.\n",
      "Just what I wanted.\n",
      "I really wanted the Plantronics 510 to be the right one, but it has too many issues for me.The good\n",
      "The internet access was fine, it the rare instance that it worked.\n",
      "A good quality bargain.. I bought this after I bought a cheapy from Big Lots that sounded awful and people on the other end couldn't hear me.\n",
      "I tried talking real loud but shouting on the telephone gets old and I was still told it wasn't great.\n",
      "Battery charge-life is quite long.\n",
      "Gets a signal when other Verizon phones won't.\n",
      "Plan on ordering from them again and again.\n",
      "They keep getting better and better (this is my third one and I've had numerous Palms too).\n",
      "Not good enough for the price.\n",
      "I have read other's reviews here but I haven't had any problem with it.\n",
      "I have only had it for a few weeks, but so far, so good.\n",
      "Everything about this product is wrong.First\n",
      "The pairing of the two devices was so easy it barely took a couple minutes before I started making calls with the voice dialing feature.\n",
      "I can hear while I'm driving in the car, and usually don't even have to put it on it's loudest setting.\n",
      "So I bought about 10 of these and saved alot of money.\n",
      "much better than the hard plastic cases.\n",
      "You get extra minutes so that you can carry out the call and not get cut off.\"\n",
      "I had to purchase a different case.\n",
      "How can anyone in their right mind ask for anything more from a movie than this?  \n",
      "Graphics is far from the best part of the game.  \n",
      "Waste your money on this game.  \n",
      "This is the kind of money that is wasted properly.  \n",
      "If there was ever a movie that needed word-of-mouth to promote, this is it.  \n",
      "It actually turned out to be pretty decent as far as B-list horror/suspense films go.  \n",
      "I don't think you will be disappointed.  \n",
      "The directing and the cinematography aren't quite as good.  \n",
      "Some applause should be given to the \"prelude\" however.  \n",
      "I'd advise anyone to go and see it.  \n",
      "I liked this movie way too much.  \n",
      "All in all, a great disappointment.  \n",
      "Still, I do like this movie for it's empowerment of women; there's not enough movies out there like this one.  \n",
      "This film has no redeeming features.  \n",
      "The lead man is charisma-free.  \n",
      "Highly unrecommended.  \n",
      "There are the usual Hitchcock logic flaws.  \n",
      "***SPOILERS*** Whatever else can (or can't) be said about it, SURFACE is superbly crafted.  \n",
      "Three of the most visually appealing movies i've ever seen.  \n",
      "I will never forget it now.  \n",
      "Which has more depth and character than the man underneath it.  \n",
      "Now you know why I gave it a 10+!  \n",
      "Not too screamy not to masculine but just right.  \n",
      "I would have casted her in that role after ready the script.  \n",
      "The soundtrack wasn't terrible, either.  \n",
      "The last 15 minutes of movie are also not bad as well.  \n",
      "I won't say any more - I don't like spoilers, so I don't want to be one, but I believe this film is worth your time.  \n",
      "Lifetime does not air it enough, so if anyone knows what store sells it let me know because this is a must-have.  \n",
      "But this movie really got to me.  \n",
      "The characters are interesting and you want to find out more about them the longer the movie goes on, and I think people will be surprised by who does and doesn't make it.  \n",
      "Don't miss it.  \n",
      "I advise you to look out for it.  \n",
      "This scene is very strong and unpleasant.  \n",
      "You won't forget this movie!  \n",
      "Predictable, but not a bad watch.  \n",
      "The only place good for this film is in the garbage.  \n",
      "I struggle to find anything bad to say about it.  \n",
      "A film not easily forgotten.  \n",
      "Not much dialogue, not much music, the whole film was shot as elaborately and aesthetically like a sculpture.  \n",
      "Not easy to watch.  \n",
      "Go rent it.  \n",
      "However, after finally watching this film, I realized that not only had I had a closed mind to the brilliance it depicts, I also found myself watching it over and over again.  \n",
      "It's the one movie that never ceases to interest me, simply because it keeps me alert, as I try to attempt to decipher it's meanings.  \n",
      "But it picked up speed and got right to the point.  \n",
      "Enough can not be said of the remarkable animation in this film.  \n",
      "I keep watching it over and over.  \n",
      "If you have not seen this movie, I definitely recommend it!  \n",
      "The only redeeming quality of the restaurant was that it was very inexpensive.\n",
      "He came running after us when he realized my husband had left his sunglasses on the table.\n",
      "We'd definitely go back here again.\n",
      "The deal included 5 tastings and 2 drinks, and Jeff went above and beyond what we expected.\n",
      "The scallop dish is quite appalling for value as well.\n",
      "Will be back again!\n",
      "The only good thing was our waiter, he was very helpful and kept the bloddy mary's coming.\n",
      "Will go back next trip out.\n",
      "Check it out.\n",
      "I've had better atmosphere.\n",
      "I give it 2 thumbs down\n",
      "I was seated immediately.\n",
      "Restaurant is always full but never a wait.\n",
      "Extremely Tasty!\n",
      "Which are small and not worth the price.\n",
      "They know how to make them here.\n",
      "very tough and very short on flavor!\n",
      "You cant go wrong with any of the food here.\n",
      "You can't beat that.\n",
      "The goat taco didn't skimp on the meat and wow what FLAVOR!\n",
      "I went to Bachi Burger on a friend's recommendation and was not disappointed.\n",
      "I did not expect this to be so good!\n",
      "And considering the two of us left there very full and happy for about $20, you just can't go wrong.\n",
      "You won't be disappointed.\n",
      "Would come back again if I had a sushi craving while in Vegas.\n",
      "Today was my first taste of a Buldogis Gourmet Hot Dog and I have to tell you it was more than I ever thought possible.\n",
      "I'll definitely be in soon again.\n",
      "I don't know what kind it is but they have the best iced tea.\n",
      "I can assure you that you won't be disappointed.\n",
      "No complaints!\n",
      "If you're not familiar, check it out.\n",
      "This was my first and only Vegas buffet and it did not disappoint.\n",
      "The selection of food was not the best.\n",
      "I will be back many times soon.\n",
      "Point your finger at any item on the menu, order it and you won't be disappointed.\n",
      "If you haven't gone here GO NOW!\n",
      "And it was way to expensive.\n",
      "This was my first time and I can't wait until the next.\n",
      "All in all, I can assure you I'll be back.\n",
      "The kids play area is NASTY!\n",
      "It was a pale color instead of nice and char and has NO flavor.\n",
      "We made the drive all the way from North Scottsdale... and I was not one bit disappointed!\n",
      "I checked out this place a couple years ago and was not impressed.\n",
      "It was just not a fun experience.\n",
      "I can't wait to go back.\n",
      "I gave it 5 stars then, and I'm giving it 5 stars now.\n",
      "will definitely be back!\n",
      "I wasn't really impressed with Strip Steak.\n",
      "The cashier was friendly and even brought the food out to me.\n",
      "After one bite, I was hooked.\n",
      "Never had anything to complain about here.\n",
      "One of the few places in Phoenix that I would definately go back to again .\n",
      "I'm super pissd.\n",
      "The service here is fair at best.\n",
      "I do love sushi, but I found Kabuki to be over-priced, over-hip and under-services.\n",
      "The food came out at a good pace.\n",
      "Some may say this buffet is pricey but I think you get what you pay for and this place you are getting quite a lot!\n",
      "Talk about great customer service of course we will be back.\n",
      "Go To Place for Gyros.\n",
      "Now the burgers aren't as good, the pizza which used to be amazing is doughy and flavorless.\n",
      "If you stay in Vegas you must get breakfast here at least once.\n",
      "The tables outside are also dirty a lot of the time and the workers are not always friendly and helpful with the menu.\n"
     ]
    }
   ],
   "source": [
    "#the sentence that the prediction is WRONG\n",
    "\n",
    "for index, row in text_data_for_prediction_cv.iterrows():\n",
    "    if row.Compare_CV == 0:\n",
    "        print (row.Text)"
   ]
  },
  {
   "cell_type": "raw",
   "metadata": {},
   "source": [
    "+++ Comparision with TF-IDF data+++\n",
    "\n",
    "The total sentences are 2966\n",
    "The right predicted sentences are 2803\n",
    "The percentage of prediction accuracy is 94.50%"
   ]
  },
  {
   "cell_type": "markdown",
   "metadata": {},
   "source": [
    "# Summarize"
   ]
  },
  {
   "cell_type": "raw",
   "metadata": {},
   "source": [
    "+++ Comparison between TF-IDF and Convectorizer Data +++\n",
    "\n",
    "The right predicted sentences from TF-IDF are 2803 -- 95.38% accurate\n",
    "The right predicted sentences from CountVectorizer are 2826 -- 94.5% accurate\n",
    "The difference between 2 data is 0.88%"
   ]
  }
 ],
 "metadata": {
  "kernelspec": {
   "display_name": "Python 3",
   "language": "python",
   "name": "python3"
  },
  "language_info": {
   "codemirror_mode": {
    "name": "ipython",
    "version": 3
   },
   "file_extension": ".py",
   "mimetype": "text/x-python",
   "name": "python",
   "nbconvert_exporter": "python",
   "pygments_lexer": "ipython3",
   "version": "3.6.5"
  }
 },
 "nbformat": 4,
 "nbformat_minor": 2
}
